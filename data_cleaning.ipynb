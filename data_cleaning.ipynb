{
 "metadata": {
  "language_info": {
   "codemirror_mode": {
    "name": "ipython",
    "version": 3
   },
   "file_extension": ".py",
   "mimetype": "text/x-python",
   "name": "python",
   "nbconvert_exporter": "python",
   "pygments_lexer": "ipython3",
   "version": "3.8.5"
  },
  "orig_nbformat": 2,
  "kernelspec": {
   "name": "python3",
   "display_name": "Python 3.8.5 64-bit ('base': conda)",
   "metadata": {
    "interpreter": {
     "hash": "37b255bb5dc0d995b91bd1b934b878e610a26475f52eafaf29fdb395fb105534"
    }
   }
  }
 },
 "nbformat": 4,
 "nbformat_minor": 2,
 "cells": [
  {
   "cell_type": "code",
   "execution_count": 1,
   "metadata": {},
   "outputs": [],
   "source": [
    "import pandas as pd"
   ]
  },
  {
   "source": [
    "# Load input data"
   ],
   "cell_type": "markdown",
   "metadata": {}
  },
  {
   "cell_type": "code",
   "execution_count": 41,
   "metadata": {},
   "outputs": [],
   "source": [
    "cod_post_original_df = pd.read_csv('input_data\\codigos_postais.csv')\n",
    "cod_post_mapping_df = pd.read_csv('input_data\\Mapeamento_Freguesias_Pre_Pos_RATF.csv', skiprows=2, encoding = \"LATIN-1\")"
   ]
  },
  {
   "cell_type": "code",
   "execution_count": 30,
   "metadata": {},
   "outputs": [
    {
     "output_type": "execute_result",
     "data": {
      "text/plain": [
       "   cod_distrito  cod_concelho  cod_localidade nome_localidade  cod_arteria  \\\n",
       "0             1             1             249         Alcafaz          NaN   \n",
       "1             1             1             250         Caselho          NaN   \n",
       "2             1             1             251  Corga da Serra          NaN   \n",
       "3             1             1             252             Foz          NaN   \n",
       "4             1             1             253        Guistola          NaN   \n",
       "\n",
       "  tipo_arteria prep1 titulo_arteria prep2 nome_arteria local_arteria troco  \\\n",
       "0          NaN   NaN            NaN   NaN          NaN           NaN   NaN   \n",
       "1          NaN   NaN            NaN   NaN          NaN           NaN   NaN   \n",
       "2          NaN   NaN            NaN   NaN          NaN           NaN   NaN   \n",
       "3          NaN   NaN            NaN   NaN          NaN           NaN   NaN   \n",
       "4          NaN   NaN            NaN   NaN          NaN           NaN   NaN   \n",
       "\n",
       "  porta cliente  num_cod_postal  ext_cod_postal desig_postal  \n",
       "0   NaN     NaN            3750              11      AGADÃO  \n",
       "1   NaN     NaN            3750              12      AGADÃO  \n",
       "2   NaN     NaN            3750              13      AGADÃO  \n",
       "3   NaN     NaN            3750              14      AGADÃO  \n",
       "4   NaN     NaN            3750              15      AGADÃO  "
      ],
      "text/html": "<div>\n<style scoped>\n    .dataframe tbody tr th:only-of-type {\n        vertical-align: middle;\n    }\n\n    .dataframe tbody tr th {\n        vertical-align: top;\n    }\n\n    .dataframe thead th {\n        text-align: right;\n    }\n</style>\n<table border=\"1\" class=\"dataframe\">\n  <thead>\n    <tr style=\"text-align: right;\">\n      <th></th>\n      <th>cod_distrito</th>\n      <th>cod_concelho</th>\n      <th>cod_localidade</th>\n      <th>nome_localidade</th>\n      <th>cod_arteria</th>\n      <th>tipo_arteria</th>\n      <th>prep1</th>\n      <th>titulo_arteria</th>\n      <th>prep2</th>\n      <th>nome_arteria</th>\n      <th>local_arteria</th>\n      <th>troco</th>\n      <th>porta</th>\n      <th>cliente</th>\n      <th>num_cod_postal</th>\n      <th>ext_cod_postal</th>\n      <th>desig_postal</th>\n    </tr>\n  </thead>\n  <tbody>\n    <tr>\n      <th>0</th>\n      <td>1</td>\n      <td>1</td>\n      <td>249</td>\n      <td>Alcafaz</td>\n      <td>NaN</td>\n      <td>NaN</td>\n      <td>NaN</td>\n      <td>NaN</td>\n      <td>NaN</td>\n      <td>NaN</td>\n      <td>NaN</td>\n      <td>NaN</td>\n      <td>NaN</td>\n      <td>NaN</td>\n      <td>3750</td>\n      <td>11</td>\n      <td>AGADÃO</td>\n    </tr>\n    <tr>\n      <th>1</th>\n      <td>1</td>\n      <td>1</td>\n      <td>250</td>\n      <td>Caselho</td>\n      <td>NaN</td>\n      <td>NaN</td>\n      <td>NaN</td>\n      <td>NaN</td>\n      <td>NaN</td>\n      <td>NaN</td>\n      <td>NaN</td>\n      <td>NaN</td>\n      <td>NaN</td>\n      <td>NaN</td>\n      <td>3750</td>\n      <td>12</td>\n      <td>AGADÃO</td>\n    </tr>\n    <tr>\n      <th>2</th>\n      <td>1</td>\n      <td>1</td>\n      <td>251</td>\n      <td>Corga da Serra</td>\n      <td>NaN</td>\n      <td>NaN</td>\n      <td>NaN</td>\n      <td>NaN</td>\n      <td>NaN</td>\n      <td>NaN</td>\n      <td>NaN</td>\n      <td>NaN</td>\n      <td>NaN</td>\n      <td>NaN</td>\n      <td>3750</td>\n      <td>13</td>\n      <td>AGADÃO</td>\n    </tr>\n    <tr>\n      <th>3</th>\n      <td>1</td>\n      <td>1</td>\n      <td>252</td>\n      <td>Foz</td>\n      <td>NaN</td>\n      <td>NaN</td>\n      <td>NaN</td>\n      <td>NaN</td>\n      <td>NaN</td>\n      <td>NaN</td>\n      <td>NaN</td>\n      <td>NaN</td>\n      <td>NaN</td>\n      <td>NaN</td>\n      <td>3750</td>\n      <td>14</td>\n      <td>AGADÃO</td>\n    </tr>\n    <tr>\n      <th>4</th>\n      <td>1</td>\n      <td>1</td>\n      <td>253</td>\n      <td>Guistola</td>\n      <td>NaN</td>\n      <td>NaN</td>\n      <td>NaN</td>\n      <td>NaN</td>\n      <td>NaN</td>\n      <td>NaN</td>\n      <td>NaN</td>\n      <td>NaN</td>\n      <td>NaN</td>\n      <td>NaN</td>\n      <td>3750</td>\n      <td>15</td>\n      <td>AGADÃO</td>\n    </tr>\n  </tbody>\n</table>\n</div>"
     },
     "metadata": {},
     "execution_count": 30
    }
   ],
   "source": [
    "cod_post_original_df.head()"
   ]
  },
  {
   "cell_type": "code",
   "execution_count": 31,
   "metadata": {},
   "outputs": [
    {
     "output_type": "execute_result",
     "data": {
      "text/plain": [
       "  Distrito/Ilha Concelho  Freguesia Pré RATF Alteração RATF  \\\n",
       "0        Aveiro   Águeda      Aguada de Cima  Sem alteração   \n",
       "1        Aveiro   Águeda         Fermentelos  Sem alteração   \n",
       "2        Aveiro   Águeda  Macinhata do Vouga  Sem alteração   \n",
       "3        Aveiro   Águeda    Valongo do Vouga  Sem alteração   \n",
       "4        Aveiro   Águeda              Águeda      Agregação   \n",
       "\n",
       "                  Freguesia Final (Pós RATF)  \n",
       "0                             Aguada de Cima  \n",
       "1                                Fermentelos  \n",
       "2                         Macinhata do Vouga  \n",
       "3                           Valongo do Vouga  \n",
       "4  União das freguesias de Águeda e Borralha  "
      ],
      "text/html": "<div>\n<style scoped>\n    .dataframe tbody tr th:only-of-type {\n        vertical-align: middle;\n    }\n\n    .dataframe tbody tr th {\n        vertical-align: top;\n    }\n\n    .dataframe thead th {\n        text-align: right;\n    }\n</style>\n<table border=\"1\" class=\"dataframe\">\n  <thead>\n    <tr style=\"text-align: right;\">\n      <th></th>\n      <th>Distrito/Ilha</th>\n      <th>Concelho</th>\n      <th>Freguesia Pré RATF</th>\n      <th>Alteração RATF</th>\n      <th>Freguesia Final (Pós RATF)</th>\n    </tr>\n  </thead>\n  <tbody>\n    <tr>\n      <th>0</th>\n      <td>Aveiro</td>\n      <td>Águeda</td>\n      <td>Aguada de Cima</td>\n      <td>Sem alteração</td>\n      <td>Aguada de Cima</td>\n    </tr>\n    <tr>\n      <th>1</th>\n      <td>Aveiro</td>\n      <td>Águeda</td>\n      <td>Fermentelos</td>\n      <td>Sem alteração</td>\n      <td>Fermentelos</td>\n    </tr>\n    <tr>\n      <th>2</th>\n      <td>Aveiro</td>\n      <td>Águeda</td>\n      <td>Macinhata do Vouga</td>\n      <td>Sem alteração</td>\n      <td>Macinhata do Vouga</td>\n    </tr>\n    <tr>\n      <th>3</th>\n      <td>Aveiro</td>\n      <td>Águeda</td>\n      <td>Valongo do Vouga</td>\n      <td>Sem alteração</td>\n      <td>Valongo do Vouga</td>\n    </tr>\n    <tr>\n      <th>4</th>\n      <td>Aveiro</td>\n      <td>Águeda</td>\n      <td>Águeda</td>\n      <td>Agregação</td>\n      <td>União das freguesias de Águeda e Borralha</td>\n    </tr>\n  </tbody>\n</table>\n</div>"
     },
     "metadata": {},
     "execution_count": 31
    }
   ],
   "source": [
    "cod_post_mapping_df.head()"
   ]
  },
  {
   "source": [
    "Check missing values:"
   ],
   "cell_type": "markdown",
   "metadata": {}
  },
  {
   "cell_type": "code",
   "execution_count": 102,
   "metadata": {},
   "outputs": [
    {
     "output_type": "execute_result",
     "data": {
      "text/plain": [
       "cod_distrito            0\n",
       "cod_concelho            0\n",
       "cod_localidade          0\n",
       "nome_localidade         0\n",
       "cod_arteria         31213\n",
       "tipo_arteria        33867\n",
       "prep1              167514\n",
       "titulo_arteria     281817\n",
       "prep2              320537\n",
       "nome_arteria        31213\n",
       "local_arteria      253824\n",
       "troco              286569\n",
       "porta              322490\n",
       "cliente            321222\n",
       "num_cod_postal          0\n",
       "ext_cod_postal          0\n",
       "desig_postal            0\n",
       "cod_postal              0\n",
       "dtype: int64"
      ]
     },
     "metadata": {},
     "execution_count": 102
    }
   ],
   "source": [
    "cod_post_original_df.isna().sum()"
   ]
  },
  {
   "source": [
    "We are not interested in any of the columns with missing values, so we can safely delete them:"
   ],
   "cell_type": "markdown",
   "metadata": {}
  },
  {
   "cell_type": "code",
   "execution_count": 108,
   "metadata": {},
   "outputs": [
    {
     "output_type": "execute_result",
     "data": {
      "text/plain": [
       "   cod_distrito  cod_concelho  cod_localidade nome_localidade  num_cod_postal  \\\n",
       "0             1             1             249         Alcafaz            3750   \n",
       "1             1             1             250         Caselho            3750   \n",
       "2             1             1             251  Corga da Serra            3750   \n",
       "3             1             1             252             Foz            3750   \n",
       "4             1             1             253        Guistola            3750   \n",
       "\n",
       "   ext_cod_postal desig_postal cod_postal  \n",
       "0              11       AGADÃO    3750-11  \n",
       "1              12       AGADÃO    3750-12  \n",
       "2              13       AGADÃO    3750-13  \n",
       "3              14       AGADÃO    3750-14  \n",
       "4              15       AGADÃO    3750-15  "
      ],
      "text/html": "<div>\n<style scoped>\n    .dataframe tbody tr th:only-of-type {\n        vertical-align: middle;\n    }\n\n    .dataframe tbody tr th {\n        vertical-align: top;\n    }\n\n    .dataframe thead th {\n        text-align: right;\n    }\n</style>\n<table border=\"1\" class=\"dataframe\">\n  <thead>\n    <tr style=\"text-align: right;\">\n      <th></th>\n      <th>cod_distrito</th>\n      <th>cod_concelho</th>\n      <th>cod_localidade</th>\n      <th>nome_localidade</th>\n      <th>num_cod_postal</th>\n      <th>ext_cod_postal</th>\n      <th>desig_postal</th>\n      <th>cod_postal</th>\n    </tr>\n  </thead>\n  <tbody>\n    <tr>\n      <th>0</th>\n      <td>1</td>\n      <td>1</td>\n      <td>249</td>\n      <td>Alcafaz</td>\n      <td>3750</td>\n      <td>11</td>\n      <td>AGADÃO</td>\n      <td>3750-11</td>\n    </tr>\n    <tr>\n      <th>1</th>\n      <td>1</td>\n      <td>1</td>\n      <td>250</td>\n      <td>Caselho</td>\n      <td>3750</td>\n      <td>12</td>\n      <td>AGADÃO</td>\n      <td>3750-12</td>\n    </tr>\n    <tr>\n      <th>2</th>\n      <td>1</td>\n      <td>1</td>\n      <td>251</td>\n      <td>Corga da Serra</td>\n      <td>3750</td>\n      <td>13</td>\n      <td>AGADÃO</td>\n      <td>3750-13</td>\n    </tr>\n    <tr>\n      <th>3</th>\n      <td>1</td>\n      <td>1</td>\n      <td>252</td>\n      <td>Foz</td>\n      <td>3750</td>\n      <td>14</td>\n      <td>AGADÃO</td>\n      <td>3750-14</td>\n    </tr>\n    <tr>\n      <th>4</th>\n      <td>1</td>\n      <td>1</td>\n      <td>253</td>\n      <td>Guistola</td>\n      <td>3750</td>\n      <td>15</td>\n      <td>AGADÃO</td>\n      <td>3750-15</td>\n    </tr>\n  </tbody>\n</table>\n</div>"
     },
     "metadata": {},
     "execution_count": 108
    }
   ],
   "source": [
    "cod_post_original_df.dropna(axis=1, inplace=True)\n",
    "cod_post_original_df.head()"
   ]
  },
  {
   "cell_type": "code",
   "execution_count": 109,
   "metadata": {},
   "outputs": [
    {
     "output_type": "execute_result",
     "data": {
      "text/plain": [
       "Distrito/Ilha                 0\n",
       "Concelho                      0\n",
       "Freguesia Pré RATF            1\n",
       "Alteração RATF                0\n",
       "Freguesia Final (Pós RATF)    1\n",
       "dtype: int64"
      ]
     },
     "metadata": {},
     "execution_count": 109
    }
   ],
   "source": [
    "cod_post_mapping_df.isna()"
   ]
  },
  {
   "cell_type": "code",
   "execution_count": 64,
   "metadata": {},
   "outputs": [
    {
     "output_type": "execute_result",
     "data": {
      "text/plain": [
       "   num_cod_postal  ext_cod_postal cod_postal\n",
       "0            3750              11    3750-11\n",
       "1            3750              12    3750-12\n",
       "2            3750              13    3750-13\n",
       "3            3750              14    3750-14\n",
       "4            3750              15    3750-15"
      ],
      "text/html": "<div>\n<style scoped>\n    .dataframe tbody tr th:only-of-type {\n        vertical-align: middle;\n    }\n\n    .dataframe tbody tr th {\n        vertical-align: top;\n    }\n\n    .dataframe thead th {\n        text-align: right;\n    }\n</style>\n<table border=\"1\" class=\"dataframe\">\n  <thead>\n    <tr style=\"text-align: right;\">\n      <th></th>\n      <th>num_cod_postal</th>\n      <th>ext_cod_postal</th>\n      <th>cod_postal</th>\n    </tr>\n  </thead>\n  <tbody>\n    <tr>\n      <th>0</th>\n      <td>3750</td>\n      <td>11</td>\n      <td>3750-11</td>\n    </tr>\n    <tr>\n      <th>1</th>\n      <td>3750</td>\n      <td>12</td>\n      <td>3750-12</td>\n    </tr>\n    <tr>\n      <th>2</th>\n      <td>3750</td>\n      <td>13</td>\n      <td>3750-13</td>\n    </tr>\n    <tr>\n      <th>3</th>\n      <td>3750</td>\n      <td>14</td>\n      <td>3750-14</td>\n    </tr>\n    <tr>\n      <th>4</th>\n      <td>3750</td>\n      <td>15</td>\n      <td>3750-15</td>\n    </tr>\n  </tbody>\n</table>\n</div>"
     },
     "metadata": {},
     "execution_count": 64
    }
   ],
   "source": [
    "cod_post_original_df['cod_postal'] = cod_post_original_df['num_cod_postal'].astype('str') + '-' + cod_post_original_df['ext_cod_postal'].astype('str')\n",
    "\n",
    "cod_post_original_df[['num_cod_postal', 'ext_cod_postal', 'cod_postal']].head()"
   ]
  },
  {
   "cell_type": "code",
   "execution_count": null,
   "metadata": {},
   "outputs": [],
   "source": []
  }
 ]
}