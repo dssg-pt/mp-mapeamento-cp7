{
 "metadata": {
  "language_info": {
   "codemirror_mode": {
    "name": "ipython",
    "version": 3
   },
   "file_extension": ".py",
   "mimetype": "text/x-python",
   "name": "python",
   "nbconvert_exporter": "python",
   "pygments_lexer": "ipython3",
   "version": "3.8.5"
  },
  "orig_nbformat": 2,
  "kernelspec": {
   "name": "python385jvsc74a57bd037b255bb5dc0d995b91bd1b934b878e610a26475f52eafaf29fdb395fb105534",
   "display_name": "Python 3.8.5 64-bit ('base': conda)"
  }
 },
 "nbformat": 4,
 "nbformat_minor": 2,
 "cells": [
  {
   "cell_type": "code",
   "execution_count": 1,
   "metadata": {},
   "outputs": [],
   "source": [
    "import pandas as pd"
   ]
  },
  {
   "source": [
    "# Load input data"
   ],
   "cell_type": "markdown",
   "metadata": {}
  },
  {
   "cell_type": "code",
   "execution_count": 2,
   "metadata": {},
   "outputs": [],
   "source": [
    "cod_post_df_columns = pd.read_csv('input_data\\codigos_postais.csv').columns\n",
    "\n",
    "# Another data source:\n",
    "cod_post_original_df = pd.read_csv('input_data\\\\todos_cp\\\\todos_cp.txt',\n",
    "                                   names=cod_post_df_columns,\n",
    "                                   delimiter=';',\n",
    "                                   encoding='LATIN-1')\n",
    "concelhos_df = pd.read_csv('input_data\\\\todos_cp\\\\concelhos.txt',\n",
    "                                   names=['cod_distrito', 'cod_concelho', 'concelho'],\n",
    "                                   delimiter=';',\n",
    "                                   encoding='LATIN-1')\n",
    "distritos_df = pd.read_csv('input_data\\\\todos_cp\\\\distritos.txt',\n",
    "                                   names=['cod_distrito', 'distrito'],\n",
    "                                   delimiter=';',\n",
    "                                   encoding='LATIN-1')\n",
    "\n",
    "cod_post_mapping_df = pd.read_csv('input_data\\Mapeamento_Freguesias_Pre_Pos_RATF.csv', skiprows=2, encoding = \"LATIN-1\")"
   ]
  },
  {
   "cell_type": "code",
   "execution_count": 3,
   "metadata": {},
   "outputs": [
    {
     "output_type": "execute_result",
     "data": {
      "text/plain": [
       "   cod_distrito  cod_concelho  cod_localidade nome_localidade  cod_arteria  \\\n",
       "0             1             1             249         Alcafaz          NaN   \n",
       "1             1             1             250         Caselho          NaN   \n",
       "2             1             1             251  Corga da Serra          NaN   \n",
       "3             1             1             252             Foz          NaN   \n",
       "4             1             1             253        Guistola          NaN   \n",
       "\n",
       "  tipo_arteria prep1 titulo_arteria prep2 nome_arteria local_arteria troco  \\\n",
       "0          NaN   NaN            NaN   NaN          NaN           NaN   NaN   \n",
       "1          NaN   NaN            NaN   NaN          NaN           NaN   NaN   \n",
       "2          NaN   NaN            NaN   NaN          NaN           NaN   NaN   \n",
       "3          NaN   NaN            NaN   NaN          NaN           NaN   NaN   \n",
       "4          NaN   NaN            NaN   NaN          NaN           NaN   NaN   \n",
       "\n",
       "  porta cliente  num_cod_postal  ext_cod_postal desig_postal  \n",
       "0   NaN     NaN            3750              11       AGADÃO  \n",
       "1   NaN     NaN            3750              12       AGADÃO  \n",
       "2   NaN     NaN            3750              13       AGADÃO  \n",
       "3   NaN     NaN            3750              14       AGADÃO  \n",
       "4   NaN     NaN            3750              15       AGADÃO  "
      ],
      "text/html": "<div>\n<style scoped>\n    .dataframe tbody tr th:only-of-type {\n        vertical-align: middle;\n    }\n\n    .dataframe tbody tr th {\n        vertical-align: top;\n    }\n\n    .dataframe thead th {\n        text-align: right;\n    }\n</style>\n<table border=\"1\" class=\"dataframe\">\n  <thead>\n    <tr style=\"text-align: right;\">\n      <th></th>\n      <th>cod_distrito</th>\n      <th>cod_concelho</th>\n      <th>cod_localidade</th>\n      <th>nome_localidade</th>\n      <th>cod_arteria</th>\n      <th>tipo_arteria</th>\n      <th>prep1</th>\n      <th>titulo_arteria</th>\n      <th>prep2</th>\n      <th>nome_arteria</th>\n      <th>local_arteria</th>\n      <th>troco</th>\n      <th>porta</th>\n      <th>cliente</th>\n      <th>num_cod_postal</th>\n      <th>ext_cod_postal</th>\n      <th>desig_postal</th>\n    </tr>\n  </thead>\n  <tbody>\n    <tr>\n      <th>0</th>\n      <td>1</td>\n      <td>1</td>\n      <td>249</td>\n      <td>Alcafaz</td>\n      <td>NaN</td>\n      <td>NaN</td>\n      <td>NaN</td>\n      <td>NaN</td>\n      <td>NaN</td>\n      <td>NaN</td>\n      <td>NaN</td>\n      <td>NaN</td>\n      <td>NaN</td>\n      <td>NaN</td>\n      <td>3750</td>\n      <td>11</td>\n      <td>AGADÃO</td>\n    </tr>\n    <tr>\n      <th>1</th>\n      <td>1</td>\n      <td>1</td>\n      <td>250</td>\n      <td>Caselho</td>\n      <td>NaN</td>\n      <td>NaN</td>\n      <td>NaN</td>\n      <td>NaN</td>\n      <td>NaN</td>\n      <td>NaN</td>\n      <td>NaN</td>\n      <td>NaN</td>\n      <td>NaN</td>\n      <td>NaN</td>\n      <td>3750</td>\n      <td>12</td>\n      <td>AGADÃO</td>\n    </tr>\n    <tr>\n      <th>2</th>\n      <td>1</td>\n      <td>1</td>\n      <td>251</td>\n      <td>Corga da Serra</td>\n      <td>NaN</td>\n      <td>NaN</td>\n      <td>NaN</td>\n      <td>NaN</td>\n      <td>NaN</td>\n      <td>NaN</td>\n      <td>NaN</td>\n      <td>NaN</td>\n      <td>NaN</td>\n      <td>NaN</td>\n      <td>3750</td>\n      <td>13</td>\n      <td>AGADÃO</td>\n    </tr>\n    <tr>\n      <th>3</th>\n      <td>1</td>\n      <td>1</td>\n      <td>252</td>\n      <td>Foz</td>\n      <td>NaN</td>\n      <td>NaN</td>\n      <td>NaN</td>\n      <td>NaN</td>\n      <td>NaN</td>\n      <td>NaN</td>\n      <td>NaN</td>\n      <td>NaN</td>\n      <td>NaN</td>\n      <td>NaN</td>\n      <td>3750</td>\n      <td>14</td>\n      <td>AGADÃO</td>\n    </tr>\n    <tr>\n      <th>4</th>\n      <td>1</td>\n      <td>1</td>\n      <td>253</td>\n      <td>Guistola</td>\n      <td>NaN</td>\n      <td>NaN</td>\n      <td>NaN</td>\n      <td>NaN</td>\n      <td>NaN</td>\n      <td>NaN</td>\n      <td>NaN</td>\n      <td>NaN</td>\n      <td>NaN</td>\n      <td>NaN</td>\n      <td>3750</td>\n      <td>15</td>\n      <td>AGADÃO</td>\n    </tr>\n  </tbody>\n</table>\n</div>"
     },
     "metadata": {},
     "execution_count": 3
    }
   ],
   "source": [
    "cod_post_original_df.head()"
   ]
  },
  {
   "cell_type": "code",
   "execution_count": 4,
   "metadata": {},
   "outputs": [
    {
     "output_type": "execute_result",
     "data": {
      "text/plain": [
       "   cod_distrito  cod_concelho           concelho\n",
       "0            13             8         Matosinhos\n",
       "1            13             9  Paços de Ferreira\n",
       "2            13            10            Paredes\n",
       "3            13            11           Penafiel\n",
       "4            13            12              Porto"
      ],
      "text/html": "<div>\n<style scoped>\n    .dataframe tbody tr th:only-of-type {\n        vertical-align: middle;\n    }\n\n    .dataframe tbody tr th {\n        vertical-align: top;\n    }\n\n    .dataframe thead th {\n        text-align: right;\n    }\n</style>\n<table border=\"1\" class=\"dataframe\">\n  <thead>\n    <tr style=\"text-align: right;\">\n      <th></th>\n      <th>cod_distrito</th>\n      <th>cod_concelho</th>\n      <th>concelho</th>\n    </tr>\n  </thead>\n  <tbody>\n    <tr>\n      <th>0</th>\n      <td>13</td>\n      <td>8</td>\n      <td>Matosinhos</td>\n    </tr>\n    <tr>\n      <th>1</th>\n      <td>13</td>\n      <td>9</td>\n      <td>Paços de Ferreira</td>\n    </tr>\n    <tr>\n      <th>2</th>\n      <td>13</td>\n      <td>10</td>\n      <td>Paredes</td>\n    </tr>\n    <tr>\n      <th>3</th>\n      <td>13</td>\n      <td>11</td>\n      <td>Penafiel</td>\n    </tr>\n    <tr>\n      <th>4</th>\n      <td>13</td>\n      <td>12</td>\n      <td>Porto</td>\n    </tr>\n  </tbody>\n</table>\n</div>"
     },
     "metadata": {},
     "execution_count": 4
    }
   ],
   "source": [
    "concelhos_df.head()"
   ]
  },
  {
   "cell_type": "code",
   "execution_count": 5,
   "metadata": {},
   "outputs": [
    {
     "output_type": "execute_result",
     "data": {
      "text/plain": [
       "   cod_distrito        distrito\n",
       "0             1          Aveiro\n",
       "1             2            Beja\n",
       "2             3           Braga\n",
       "3             4        Bragança\n",
       "4             5  Castelo Branco"
      ],
      "text/html": "<div>\n<style scoped>\n    .dataframe tbody tr th:only-of-type {\n        vertical-align: middle;\n    }\n\n    .dataframe tbody tr th {\n        vertical-align: top;\n    }\n\n    .dataframe thead th {\n        text-align: right;\n    }\n</style>\n<table border=\"1\" class=\"dataframe\">\n  <thead>\n    <tr style=\"text-align: right;\">\n      <th></th>\n      <th>cod_distrito</th>\n      <th>distrito</th>\n    </tr>\n  </thead>\n  <tbody>\n    <tr>\n      <th>0</th>\n      <td>1</td>\n      <td>Aveiro</td>\n    </tr>\n    <tr>\n      <th>1</th>\n      <td>2</td>\n      <td>Beja</td>\n    </tr>\n    <tr>\n      <th>2</th>\n      <td>3</td>\n      <td>Braga</td>\n    </tr>\n    <tr>\n      <th>3</th>\n      <td>4</td>\n      <td>Bragança</td>\n    </tr>\n    <tr>\n      <th>4</th>\n      <td>5</td>\n      <td>Castelo Branco</td>\n    </tr>\n  </tbody>\n</table>\n</div>"
     },
     "metadata": {},
     "execution_count": 5
    }
   ],
   "source": [
    "distritos_df.head()"
   ]
  },
  {
   "cell_type": "code",
   "execution_count": 6,
   "metadata": {},
   "outputs": [
    {
     "output_type": "execute_result",
     "data": {
      "text/plain": [
       "  Distrito/Ilha Concelho  Freguesia Pré RATF Alteração RATF  \\\n",
       "0        Aveiro   Águeda      Aguada de Cima  Sem alteração   \n",
       "1        Aveiro   Águeda         Fermentelos  Sem alteração   \n",
       "2        Aveiro   Águeda  Macinhata do Vouga  Sem alteração   \n",
       "3        Aveiro   Águeda    Valongo do Vouga  Sem alteração   \n",
       "4        Aveiro   Águeda              Águeda      Agregação   \n",
       "\n",
       "                  Freguesia Final (Pós RATF)  \n",
       "0                             Aguada de Cima  \n",
       "1                                Fermentelos  \n",
       "2                         Macinhata do Vouga  \n",
       "3                           Valongo do Vouga  \n",
       "4  União das freguesias de Águeda e Borralha  "
      ],
      "text/html": "<div>\n<style scoped>\n    .dataframe tbody tr th:only-of-type {\n        vertical-align: middle;\n    }\n\n    .dataframe tbody tr th {\n        vertical-align: top;\n    }\n\n    .dataframe thead th {\n        text-align: right;\n    }\n</style>\n<table border=\"1\" class=\"dataframe\">\n  <thead>\n    <tr style=\"text-align: right;\">\n      <th></th>\n      <th>Distrito/Ilha</th>\n      <th>Concelho</th>\n      <th>Freguesia Pré RATF</th>\n      <th>Alteração RATF</th>\n      <th>Freguesia Final (Pós RATF)</th>\n    </tr>\n  </thead>\n  <tbody>\n    <tr>\n      <th>0</th>\n      <td>Aveiro</td>\n      <td>Águeda</td>\n      <td>Aguada de Cima</td>\n      <td>Sem alteração</td>\n      <td>Aguada de Cima</td>\n    </tr>\n    <tr>\n      <th>1</th>\n      <td>Aveiro</td>\n      <td>Águeda</td>\n      <td>Fermentelos</td>\n      <td>Sem alteração</td>\n      <td>Fermentelos</td>\n    </tr>\n    <tr>\n      <th>2</th>\n      <td>Aveiro</td>\n      <td>Águeda</td>\n      <td>Macinhata do Vouga</td>\n      <td>Sem alteração</td>\n      <td>Macinhata do Vouga</td>\n    </tr>\n    <tr>\n      <th>3</th>\n      <td>Aveiro</td>\n      <td>Águeda</td>\n      <td>Valongo do Vouga</td>\n      <td>Sem alteração</td>\n      <td>Valongo do Vouga</td>\n    </tr>\n    <tr>\n      <th>4</th>\n      <td>Aveiro</td>\n      <td>Águeda</td>\n      <td>Águeda</td>\n      <td>Agregação</td>\n      <td>União das freguesias de Águeda e Borralha</td>\n    </tr>\n  </tbody>\n</table>\n</div>"
     },
     "metadata": {},
     "execution_count": 6
    }
   ],
   "source": [
    "cod_post_mapping_df.head()"
   ]
  },
  {
   "source": [
    "# Data Cleaning"
   ],
   "cell_type": "markdown",
   "metadata": {}
  },
  {
   "source": [
    "## Check for missing values"
   ],
   "cell_type": "markdown",
   "metadata": {}
  },
  {
   "source": [
    "### Original postal codes data"
   ],
   "cell_type": "markdown",
   "metadata": {}
  },
  {
   "cell_type": "code",
   "execution_count": 7,
   "metadata": {},
   "outputs": [
    {
     "output_type": "execute_result",
     "data": {
      "text/plain": [
       "cod_distrito            0\n",
       "cod_concelho            0\n",
       "cod_localidade          0\n",
       "nome_localidade         0\n",
       "cod_arteria         30753\n",
       "tipo_arteria        33307\n",
       "prep1              167769\n",
       "titulo_arteria     283338\n",
       "prep2              322332\n",
       "nome_arteria        30753\n",
       "local_arteria      256318\n",
       "troco              288213\n",
       "porta              324401\n",
       "cliente            323178\n",
       "num_cod_postal          0\n",
       "ext_cod_postal          0\n",
       "desig_postal            0\n",
       "dtype: int64"
      ]
     },
     "metadata": {},
     "execution_count": 7
    }
   ],
   "source": [
    "cod_post_original_df.isna().sum()"
   ]
  },
  {
   "source": [
    "We are not interested in any of the columns with missing values, so we can safely delete them:"
   ],
   "cell_type": "markdown",
   "metadata": {}
  },
  {
   "cell_type": "code",
   "execution_count": 8,
   "metadata": {},
   "outputs": [
    {
     "output_type": "execute_result",
     "data": {
      "text/plain": [
       "   cod_distrito  cod_concelho  cod_localidade nome_localidade  num_cod_postal  \\\n",
       "0             1             1             249         Alcafaz            3750   \n",
       "1             1             1             250         Caselho            3750   \n",
       "2             1             1             251  Corga da Serra            3750   \n",
       "3             1             1             252             Foz            3750   \n",
       "4             1             1             253        Guistola            3750   \n",
       "\n",
       "   ext_cod_postal desig_postal  \n",
       "0              11       AGADÃO  \n",
       "1              12       AGADÃO  \n",
       "2              13       AGADÃO  \n",
       "3              14       AGADÃO  \n",
       "4              15       AGADÃO  "
      ],
      "text/html": "<div>\n<style scoped>\n    .dataframe tbody tr th:only-of-type {\n        vertical-align: middle;\n    }\n\n    .dataframe tbody tr th {\n        vertical-align: top;\n    }\n\n    .dataframe thead th {\n        text-align: right;\n    }\n</style>\n<table border=\"1\" class=\"dataframe\">\n  <thead>\n    <tr style=\"text-align: right;\">\n      <th></th>\n      <th>cod_distrito</th>\n      <th>cod_concelho</th>\n      <th>cod_localidade</th>\n      <th>nome_localidade</th>\n      <th>num_cod_postal</th>\n      <th>ext_cod_postal</th>\n      <th>desig_postal</th>\n    </tr>\n  </thead>\n  <tbody>\n    <tr>\n      <th>0</th>\n      <td>1</td>\n      <td>1</td>\n      <td>249</td>\n      <td>Alcafaz</td>\n      <td>3750</td>\n      <td>11</td>\n      <td>AGADÃO</td>\n    </tr>\n    <tr>\n      <th>1</th>\n      <td>1</td>\n      <td>1</td>\n      <td>250</td>\n      <td>Caselho</td>\n      <td>3750</td>\n      <td>12</td>\n      <td>AGADÃO</td>\n    </tr>\n    <tr>\n      <th>2</th>\n      <td>1</td>\n      <td>1</td>\n      <td>251</td>\n      <td>Corga da Serra</td>\n      <td>3750</td>\n      <td>13</td>\n      <td>AGADÃO</td>\n    </tr>\n    <tr>\n      <th>3</th>\n      <td>1</td>\n      <td>1</td>\n      <td>252</td>\n      <td>Foz</td>\n      <td>3750</td>\n      <td>14</td>\n      <td>AGADÃO</td>\n    </tr>\n    <tr>\n      <th>4</th>\n      <td>1</td>\n      <td>1</td>\n      <td>253</td>\n      <td>Guistola</td>\n      <td>3750</td>\n      <td>15</td>\n      <td>AGADÃO</td>\n    </tr>\n  </tbody>\n</table>\n</div>"
     },
     "metadata": {},
     "execution_count": 8
    }
   ],
   "source": [
    "cod_post_original_df.dropna(axis=1, inplace=True)\n",
    "cod_post_original_df.head()"
   ]
  },
  {
   "source": [
    "### Postal code mapping data"
   ],
   "cell_type": "markdown",
   "metadata": {}
  },
  {
   "cell_type": "code",
   "execution_count": 9,
   "metadata": {},
   "outputs": [
    {
     "output_type": "execute_result",
     "data": {
      "text/plain": [
       "Distrito/Ilha                 0\n",
       "Concelho                      0\n",
       "Freguesia Pré RATF            1\n",
       "Alteração RATF                0\n",
       "Freguesia Final (Pós RATF)    1\n",
       "dtype: int64"
      ]
     },
     "metadata": {},
     "execution_count": 9
    }
   ],
   "source": [
    "cod_post_mapping_df.isna().sum()"
   ]
  },
  {
   "source": [
    "Here, we see that only two entries are N/A. Lets take a closer look:"
   ],
   "cell_type": "markdown",
   "metadata": {}
  },
  {
   "cell_type": "code",
   "execution_count": 10,
   "metadata": {},
   "outputs": [
    {
     "output_type": "execute_result",
     "data": {
      "text/plain": [
       "     Distrito/Ilha Concelho Freguesia Pré RATF                Alteração RATF  \\\n",
       "283           Beja  Odemira              Bicos  Extinta - Destinos Múltiplos   \n",
       "2226        Lisboa   Lisboa                NaN                          Nova   \n",
       "\n",
       "     Freguesia Final (Pós RATF)  \n",
       "283                         NaN  \n",
       "2226          Parque das Nações  "
      ],
      "text/html": "<div>\n<style scoped>\n    .dataframe tbody tr th:only-of-type {\n        vertical-align: middle;\n    }\n\n    .dataframe tbody tr th {\n        vertical-align: top;\n    }\n\n    .dataframe thead th {\n        text-align: right;\n    }\n</style>\n<table border=\"1\" class=\"dataframe\">\n  <thead>\n    <tr style=\"text-align: right;\">\n      <th></th>\n      <th>Distrito/Ilha</th>\n      <th>Concelho</th>\n      <th>Freguesia Pré RATF</th>\n      <th>Alteração RATF</th>\n      <th>Freguesia Final (Pós RATF)</th>\n    </tr>\n  </thead>\n  <tbody>\n    <tr>\n      <th>283</th>\n      <td>Beja</td>\n      <td>Odemira</td>\n      <td>Bicos</td>\n      <td>Extinta - Destinos Múltiplos</td>\n      <td>NaN</td>\n    </tr>\n    <tr>\n      <th>2226</th>\n      <td>Lisboa</td>\n      <td>Lisboa</td>\n      <td>NaN</td>\n      <td>Nova</td>\n      <td>Parque das Nações</td>\n    </tr>\n  </tbody>\n</table>\n</div>"
     },
     "metadata": {},
     "execution_count": 10
    }
   ],
   "source": [
    "cod_post_mapping_df[cod_post_mapping_df.isna().any(axis=1)]"
   ]
  },
  {
   "source": [
    "In one of them, the *\"freguesia\"* ceased to exists, so there is no name for it after the re-structuring. In the other case, a new *\"freguesia\"* was created, so there previously was no name for it. We can easily fix this by filling both entries with the placeholder \" \":"
   ],
   "cell_type": "markdown",
   "metadata": {}
  },
  {
   "cell_type": "code",
   "execution_count": 11,
   "metadata": {},
   "outputs": [],
   "source": [
    "cod_post_mapping_df.fillna(value=' ', inplace=True)"
   ]
  },
  {
   "source": [
    "# Data Wrangling"
   ],
   "cell_type": "markdown",
   "metadata": {}
  },
  {
   "source": [
    "We first want to match the postal code to the *Freguesia*, *Concelho* and *Distrito*. For that, we will use the two other *dataframes*:"
   ],
   "cell_type": "markdown",
   "metadata": {}
  },
  {
   "cell_type": "code",
   "execution_count": 12,
   "metadata": {},
   "outputs": [],
   "source": [
    "distritos_df.set_index('cod_distrito', inplace=True)"
   ]
  },
  {
   "cell_type": "code",
   "execution_count": 13,
   "metadata": {},
   "outputs": [],
   "source": [
    "cod_post_original_df = cod_post_original_df.join(distritos_df, on='cod_distrito', rsuffix='__')"
   ]
  },
  {
   "cell_type": "code",
   "execution_count": 14,
   "metadata": {},
   "outputs": [],
   "source": [
    "concelhos_df.set_index('cod_distrito', inplace=True)\n",
    "concelhos_df.set_index('cod_concelho', append=True, inplace=True)"
   ]
  },
  {
   "cell_type": "code",
   "execution_count": 15,
   "metadata": {},
   "outputs": [],
   "source": [
    "cod_post_original_df = cod_post_original_df.join(concelhos_df, on=['cod_distrito', 'cod_concelho'])"
   ]
  },
  {
   "cell_type": "code",
   "execution_count": 16,
   "metadata": {},
   "outputs": [
    {
     "output_type": "execute_result",
     "data": {
      "text/plain": [
       "   cod_distrito  cod_concelho  cod_localidade nome_localidade  num_cod_postal  \\\n",
       "0             1             1             249         Alcafaz            3750   \n",
       "1             1             1             250         Caselho            3750   \n",
       "2             1             1             251  Corga da Serra            3750   \n",
       "3             1             1             252             Foz            3750   \n",
       "4             1             1             253        Guistola            3750   \n",
       "\n",
       "   ext_cod_postal desig_postal distrito concelho  \n",
       "0              11       AGADÃO   Aveiro   Águeda  \n",
       "1              12       AGADÃO   Aveiro   Águeda  \n",
       "2              13       AGADÃO   Aveiro   Águeda  \n",
       "3              14       AGADÃO   Aveiro   Águeda  \n",
       "4              15       AGADÃO   Aveiro   Águeda  "
      ],
      "text/html": "<div>\n<style scoped>\n    .dataframe tbody tr th:only-of-type {\n        vertical-align: middle;\n    }\n\n    .dataframe tbody tr th {\n        vertical-align: top;\n    }\n\n    .dataframe thead th {\n        text-align: right;\n    }\n</style>\n<table border=\"1\" class=\"dataframe\">\n  <thead>\n    <tr style=\"text-align: right;\">\n      <th></th>\n      <th>cod_distrito</th>\n      <th>cod_concelho</th>\n      <th>cod_localidade</th>\n      <th>nome_localidade</th>\n      <th>num_cod_postal</th>\n      <th>ext_cod_postal</th>\n      <th>desig_postal</th>\n      <th>distrito</th>\n      <th>concelho</th>\n    </tr>\n  </thead>\n  <tbody>\n    <tr>\n      <th>0</th>\n      <td>1</td>\n      <td>1</td>\n      <td>249</td>\n      <td>Alcafaz</td>\n      <td>3750</td>\n      <td>11</td>\n      <td>AGADÃO</td>\n      <td>Aveiro</td>\n      <td>Águeda</td>\n    </tr>\n    <tr>\n      <th>1</th>\n      <td>1</td>\n      <td>1</td>\n      <td>250</td>\n      <td>Caselho</td>\n      <td>3750</td>\n      <td>12</td>\n      <td>AGADÃO</td>\n      <td>Aveiro</td>\n      <td>Águeda</td>\n    </tr>\n    <tr>\n      <th>2</th>\n      <td>1</td>\n      <td>1</td>\n      <td>251</td>\n      <td>Corga da Serra</td>\n      <td>3750</td>\n      <td>13</td>\n      <td>AGADÃO</td>\n      <td>Aveiro</td>\n      <td>Águeda</td>\n    </tr>\n    <tr>\n      <th>3</th>\n      <td>1</td>\n      <td>1</td>\n      <td>252</td>\n      <td>Foz</td>\n      <td>3750</td>\n      <td>14</td>\n      <td>AGADÃO</td>\n      <td>Aveiro</td>\n      <td>Águeda</td>\n    </tr>\n    <tr>\n      <th>4</th>\n      <td>1</td>\n      <td>1</td>\n      <td>253</td>\n      <td>Guistola</td>\n      <td>3750</td>\n      <td>15</td>\n      <td>AGADÃO</td>\n      <td>Aveiro</td>\n      <td>Águeda</td>\n    </tr>\n  </tbody>\n</table>\n</div>"
     },
     "metadata": {},
     "execution_count": 16
    }
   ],
   "source": [
    "cod_post_original_df.head()"
   ]
  },
  {
   "source": [
    "We will also add a column to the original postal code dataframe which will hold the actual postal code:"
   ],
   "cell_type": "markdown",
   "metadata": {}
  },
  {
   "cell_type": "code",
   "execution_count": 17,
   "metadata": {},
   "outputs": [
    {
     "output_type": "execute_result",
     "data": {
      "text/plain": [
       "   cod_distrito  cod_concelho  cod_localidade nome_localidade  num_cod_postal  \\\n",
       "0             1             1             249         Alcafaz            3750   \n",
       "1             1             1             250         Caselho            3750   \n",
       "2             1             1             251  Corga da Serra            3750   \n",
       "3             1             1             252             Foz            3750   \n",
       "4             1             1             253        Guistola            3750   \n",
       "\n",
       "   ext_cod_postal desig_postal distrito concelho cod_postal  \n",
       "0              11       AGADÃO   Aveiro   Águeda    3750011  \n",
       "1              12       AGADÃO   Aveiro   Águeda    3750012  \n",
       "2              13       AGADÃO   Aveiro   Águeda    3750013  \n",
       "3              14       AGADÃO   Aveiro   Águeda    3750014  \n",
       "4              15       AGADÃO   Aveiro   Águeda    3750015  "
      ],
      "text/html": "<div>\n<style scoped>\n    .dataframe tbody tr th:only-of-type {\n        vertical-align: middle;\n    }\n\n    .dataframe tbody tr th {\n        vertical-align: top;\n    }\n\n    .dataframe thead th {\n        text-align: right;\n    }\n</style>\n<table border=\"1\" class=\"dataframe\">\n  <thead>\n    <tr style=\"text-align: right;\">\n      <th></th>\n      <th>cod_distrito</th>\n      <th>cod_concelho</th>\n      <th>cod_localidade</th>\n      <th>nome_localidade</th>\n      <th>num_cod_postal</th>\n      <th>ext_cod_postal</th>\n      <th>desig_postal</th>\n      <th>distrito</th>\n      <th>concelho</th>\n      <th>cod_postal</th>\n    </tr>\n  </thead>\n  <tbody>\n    <tr>\n      <th>0</th>\n      <td>1</td>\n      <td>1</td>\n      <td>249</td>\n      <td>Alcafaz</td>\n      <td>3750</td>\n      <td>11</td>\n      <td>AGADÃO</td>\n      <td>Aveiro</td>\n      <td>Águeda</td>\n      <td>3750011</td>\n    </tr>\n    <tr>\n      <th>1</th>\n      <td>1</td>\n      <td>1</td>\n      <td>250</td>\n      <td>Caselho</td>\n      <td>3750</td>\n      <td>12</td>\n      <td>AGADÃO</td>\n      <td>Aveiro</td>\n      <td>Águeda</td>\n      <td>3750012</td>\n    </tr>\n    <tr>\n      <th>2</th>\n      <td>1</td>\n      <td>1</td>\n      <td>251</td>\n      <td>Corga da Serra</td>\n      <td>3750</td>\n      <td>13</td>\n      <td>AGADÃO</td>\n      <td>Aveiro</td>\n      <td>Águeda</td>\n      <td>3750013</td>\n    </tr>\n    <tr>\n      <th>3</th>\n      <td>1</td>\n      <td>1</td>\n      <td>252</td>\n      <td>Foz</td>\n      <td>3750</td>\n      <td>14</td>\n      <td>AGADÃO</td>\n      <td>Aveiro</td>\n      <td>Águeda</td>\n      <td>3750014</td>\n    </tr>\n    <tr>\n      <th>4</th>\n      <td>1</td>\n      <td>1</td>\n      <td>253</td>\n      <td>Guistola</td>\n      <td>3750</td>\n      <td>15</td>\n      <td>AGADÃO</td>\n      <td>Aveiro</td>\n      <td>Águeda</td>\n      <td>3750015</td>\n    </tr>\n  </tbody>\n</table>\n</div>"
     },
     "metadata": {},
     "execution_count": 17
    }
   ],
   "source": [
    "two_digit_ext_idx = cod_post_original_df['ext_cod_postal'] <= 99\n",
    "cod_post_original_df.loc[two_digit_ext_idx, 'cod_postal'] = cod_post_original_df['num_cod_postal'].astype('str') + '0' + \\\n",
    "                                                            + cod_post_original_df['ext_cod_postal'].astype('str')          # if two digit extension, add leading '0' to make it three digit\n",
    "\n",
    "three_digit_ext_idx = cod_post_original_df['ext_cod_postal'] > 99\n",
    "\n",
    "cod_post_original_df.loc[three_digit_ext_idx, 'cod_postal'] = cod_post_original_df['num_cod_postal'].astype('str') \\\n",
    "                                                            + cod_post_original_df['ext_cod_postal'].astype('str')\n",
    "\n",
    "cod_post_original_df.head()"
   ]
  },
  {
   "source": [
    "# Save cleaned data"
   ],
   "cell_type": "markdown",
   "metadata": {}
  },
  {
   "cell_type": "code",
   "execution_count": 18,
   "metadata": {},
   "outputs": [],
   "source": [
    "cod_post_original_df.to_csv('interim_data\\\\cod_post_orig_clean.csv', index=False)"
   ]
  },
  {
   "cell_type": "code",
   "execution_count": 19,
   "metadata": {},
   "outputs": [],
   "source": [
    "cod_post_mapping_df.to_csv('interim_data\\\\cod_post_map_clean.csv', index=False)"
   ]
  },
  {
   "cell_type": "code",
   "execution_count": null,
   "metadata": {},
   "outputs": [],
   "source": []
  }
 ]
}