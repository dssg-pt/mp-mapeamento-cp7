{
 "metadata": {
  "language_info": {
   "codemirror_mode": {
    "name": "ipython",
    "version": 3
   },
   "file_extension": ".py",
   "mimetype": "text/x-python",
   "name": "python",
   "nbconvert_exporter": "python",
   "pygments_lexer": "ipython3",
   "version": "3.8.5"
  },
  "orig_nbformat": 2,
  "kernelspec": {
   "name": "python385jvsc74a57bd037b255bb5dc0d995b91bd1b934b878e610a26475f52eafaf29fdb395fb105534",
   "display_name": "Python 3.8.5 64-bit ('base': conda)"
  }
 },
 "nbformat": 4,
 "nbformat_minor": 2,
 "cells": [
  {
   "cell_type": "code",
   "execution_count": 1,
   "metadata": {},
   "outputs": [],
   "source": [
    "import pandas as pd\n",
    "import numpy as np\n",
    "\n",
    "from jellyfish import *\n",
    "\n",
    "import warnings\n",
    "warnings.filterwarnings('ignore')"
   ]
  },
  {
   "source": [
    "# Loading data"
   ],
   "cell_type": "markdown",
   "metadata": {}
  },
  {
   "cell_type": "code",
   "execution_count": 2,
   "metadata": {},
   "outputs": [],
   "source": [
    "cod_post_orig_df = pd.read_csv('interim_data\\cod_post_orig_clean.csv')\n",
    "cod_post_map_df = pd.read_csv('interim_data\\cod_post_map_clean.csv')\n",
    "cod_post_decofre_df = pd.read_csv('interim_data\\cod_post_decofre.csv')"
   ]
  },
  {
   "cell_type": "code",
   "execution_count": 3,
   "metadata": {},
   "outputs": [
    {
     "output_type": "execute_result",
     "data": {
      "text/plain": [
       "   cod_distrito  cod_concelho  cod_localidade nome_localidade  num_cod_postal  \\\n",
       "0             1             1             249         Alcafaz            3750   \n",
       "1             1             1             250         Caselho            3750   \n",
       "2             1             1             251  Corga da Serra            3750   \n",
       "3             1             1             252             Foz            3750   \n",
       "4             1             1             253        Guistola            3750   \n",
       "\n",
       "   ext_cod_postal desig_postal Distrito Concelho  cod_postal  \n",
       "0              11       AGADÃO   Aveiro   Águeda     3750011  \n",
       "1              12       AGADÃO   Aveiro   Águeda     3750012  \n",
       "2              13       AGADÃO   Aveiro   Águeda     3750013  \n",
       "3              14       AGADÃO   Aveiro   Águeda     3750014  \n",
       "4              15       AGADÃO   Aveiro   Águeda     3750015  "
      ],
      "text/html": "<div>\n<style scoped>\n    .dataframe tbody tr th:only-of-type {\n        vertical-align: middle;\n    }\n\n    .dataframe tbody tr th {\n        vertical-align: top;\n    }\n\n    .dataframe thead th {\n        text-align: right;\n    }\n</style>\n<table border=\"1\" class=\"dataframe\">\n  <thead>\n    <tr style=\"text-align: right;\">\n      <th></th>\n      <th>cod_distrito</th>\n      <th>cod_concelho</th>\n      <th>cod_localidade</th>\n      <th>nome_localidade</th>\n      <th>num_cod_postal</th>\n      <th>ext_cod_postal</th>\n      <th>desig_postal</th>\n      <th>Distrito</th>\n      <th>Concelho</th>\n      <th>cod_postal</th>\n    </tr>\n  </thead>\n  <tbody>\n    <tr>\n      <th>0</th>\n      <td>1</td>\n      <td>1</td>\n      <td>249</td>\n      <td>Alcafaz</td>\n      <td>3750</td>\n      <td>11</td>\n      <td>AGADÃO</td>\n      <td>Aveiro</td>\n      <td>Águeda</td>\n      <td>3750011</td>\n    </tr>\n    <tr>\n      <th>1</th>\n      <td>1</td>\n      <td>1</td>\n      <td>250</td>\n      <td>Caselho</td>\n      <td>3750</td>\n      <td>12</td>\n      <td>AGADÃO</td>\n      <td>Aveiro</td>\n      <td>Águeda</td>\n      <td>3750012</td>\n    </tr>\n    <tr>\n      <th>2</th>\n      <td>1</td>\n      <td>1</td>\n      <td>251</td>\n      <td>Corga da Serra</td>\n      <td>3750</td>\n      <td>13</td>\n      <td>AGADÃO</td>\n      <td>Aveiro</td>\n      <td>Águeda</td>\n      <td>3750013</td>\n    </tr>\n    <tr>\n      <th>3</th>\n      <td>1</td>\n      <td>1</td>\n      <td>252</td>\n      <td>Foz</td>\n      <td>3750</td>\n      <td>14</td>\n      <td>AGADÃO</td>\n      <td>Aveiro</td>\n      <td>Águeda</td>\n      <td>3750014</td>\n    </tr>\n    <tr>\n      <th>4</th>\n      <td>1</td>\n      <td>1</td>\n      <td>253</td>\n      <td>Guistola</td>\n      <td>3750</td>\n      <td>15</td>\n      <td>AGADÃO</td>\n      <td>Aveiro</td>\n      <td>Águeda</td>\n      <td>3750015</td>\n    </tr>\n  </tbody>\n</table>\n</div>"
     },
     "metadata": {},
     "execution_count": 3
    }
   ],
   "source": [
    "cod_post_orig_df.head()"
   ]
  },
  {
   "cell_type": "code",
   "execution_count": 4,
   "metadata": {},
   "outputs": [
    {
     "output_type": "execute_result",
     "data": {
      "text/plain": [
       "  Distrito Concelho           Freguesia Alteração RATF  \\\n",
       "0   Aveiro   Águeda      Aguada de Cima  Sem alteração   \n",
       "1   Aveiro   Águeda         Fermentelos  Sem alteração   \n",
       "2   Aveiro   Águeda  Macinhata do Vouga  Sem alteração   \n",
       "3   Aveiro   Águeda    Valongo do Vouga  Sem alteração   \n",
       "4   Aveiro   Águeda              Águeda      Agregação   \n",
       "\n",
       "                  Freguesia Final (Pós RATF)  \n",
       "0                             Aguada de Cima  \n",
       "1                                Fermentelos  \n",
       "2                         Macinhata do Vouga  \n",
       "3                           Valongo do Vouga  \n",
       "4  União das freguesias de Águeda e Borralha  "
      ],
      "text/html": "<div>\n<style scoped>\n    .dataframe tbody tr th:only-of-type {\n        vertical-align: middle;\n    }\n\n    .dataframe tbody tr th {\n        vertical-align: top;\n    }\n\n    .dataframe thead th {\n        text-align: right;\n    }\n</style>\n<table border=\"1\" class=\"dataframe\">\n  <thead>\n    <tr style=\"text-align: right;\">\n      <th></th>\n      <th>Distrito</th>\n      <th>Concelho</th>\n      <th>Freguesia</th>\n      <th>Alteração RATF</th>\n      <th>Freguesia Final (Pós RATF)</th>\n    </tr>\n  </thead>\n  <tbody>\n    <tr>\n      <th>0</th>\n      <td>Aveiro</td>\n      <td>Águeda</td>\n      <td>Aguada de Cima</td>\n      <td>Sem alteração</td>\n      <td>Aguada de Cima</td>\n    </tr>\n    <tr>\n      <th>1</th>\n      <td>Aveiro</td>\n      <td>Águeda</td>\n      <td>Fermentelos</td>\n      <td>Sem alteração</td>\n      <td>Fermentelos</td>\n    </tr>\n    <tr>\n      <th>2</th>\n      <td>Aveiro</td>\n      <td>Águeda</td>\n      <td>Macinhata do Vouga</td>\n      <td>Sem alteração</td>\n      <td>Macinhata do Vouga</td>\n    </tr>\n    <tr>\n      <th>3</th>\n      <td>Aveiro</td>\n      <td>Águeda</td>\n      <td>Valongo do Vouga</td>\n      <td>Sem alteração</td>\n      <td>Valongo do Vouga</td>\n    </tr>\n    <tr>\n      <th>4</th>\n      <td>Aveiro</td>\n      <td>Águeda</td>\n      <td>Águeda</td>\n      <td>Agregação</td>\n      <td>União das freguesias de Águeda e Borralha</td>\n    </tr>\n  </tbody>\n</table>\n</div>"
     },
     "metadata": {},
     "execution_count": 4
    }
   ],
   "source": [
    "cod_post_map_df.head()"
   ]
  },
  {
   "cell_type": "code",
   "execution_count": 5,
   "metadata": {},
   "outputs": [
    {
     "output_type": "execute_result",
     "data": {
      "text/plain": [
       "  Freguesia Concelho Distrito Error  cod_postal\n",
       "0    Agadão   Águeda   Aveiro   NaN     3750011\n",
       "1    Agadão   Águeda   Aveiro   NaN     3750012\n",
       "2    Agadão   Águeda   Aveiro   NaN     3750013\n",
       "3    Agadão   Águeda   Aveiro   NaN     3750014\n",
       "4    Agadão   Águeda   Aveiro   NaN     3750015"
      ],
      "text/html": "<div>\n<style scoped>\n    .dataframe tbody tr th:only-of-type {\n        vertical-align: middle;\n    }\n\n    .dataframe tbody tr th {\n        vertical-align: top;\n    }\n\n    .dataframe thead th {\n        text-align: right;\n    }\n</style>\n<table border=\"1\" class=\"dataframe\">\n  <thead>\n    <tr style=\"text-align: right;\">\n      <th></th>\n      <th>Freguesia</th>\n      <th>Concelho</th>\n      <th>Distrito</th>\n      <th>Error</th>\n      <th>cod_postal</th>\n    </tr>\n  </thead>\n  <tbody>\n    <tr>\n      <th>0</th>\n      <td>Agadão</td>\n      <td>Águeda</td>\n      <td>Aveiro</td>\n      <td>NaN</td>\n      <td>3750011</td>\n    </tr>\n    <tr>\n      <th>1</th>\n      <td>Agadão</td>\n      <td>Águeda</td>\n      <td>Aveiro</td>\n      <td>NaN</td>\n      <td>3750012</td>\n    </tr>\n    <tr>\n      <th>2</th>\n      <td>Agadão</td>\n      <td>Águeda</td>\n      <td>Aveiro</td>\n      <td>NaN</td>\n      <td>3750013</td>\n    </tr>\n    <tr>\n      <th>3</th>\n      <td>Agadão</td>\n      <td>Águeda</td>\n      <td>Aveiro</td>\n      <td>NaN</td>\n      <td>3750014</td>\n    </tr>\n    <tr>\n      <th>4</th>\n      <td>Agadão</td>\n      <td>Águeda</td>\n      <td>Aveiro</td>\n      <td>NaN</td>\n      <td>3750015</td>\n    </tr>\n  </tbody>\n</table>\n</div>"
     },
     "metadata": {},
     "execution_count": 5
    }
   ],
   "source": [
    "cod_post_decofre_df.head()"
   ]
  },
  {
   "source": [
    "Replacing *distrito* and *concelho* with the original ones:"
   ],
   "cell_type": "markdown",
   "metadata": {}
  },
  {
   "cell_type": "code",
   "execution_count": 6,
   "metadata": {},
   "outputs": [],
   "source": [
    "cod_post_dcfre_df = cod_post_orig_df[['Distrito', 'Concelho', 'cod_postal']].join(cod_post_decofre_df.set_index('cod_postal')['Freguesia'], on='cod_postal')"
   ]
  },
  {
   "cell_type": "code",
   "execution_count": 7,
   "metadata": {},
   "outputs": [
    {
     "output_type": "execute_result",
     "data": {
      "text/plain": [
       "  Distrito Concelho  cod_postal Freguesia\n",
       "0   Aveiro   Águeda     3750011    Agadão\n",
       "1   Aveiro   Águeda     3750012    Agadão\n",
       "2   Aveiro   Águeda     3750013    Agadão\n",
       "3   Aveiro   Águeda     3750014    Agadão\n",
       "4   Aveiro   Águeda     3750015    Agadão"
      ],
      "text/html": "<div>\n<style scoped>\n    .dataframe tbody tr th:only-of-type {\n        vertical-align: middle;\n    }\n\n    .dataframe tbody tr th {\n        vertical-align: top;\n    }\n\n    .dataframe thead th {\n        text-align: right;\n    }\n</style>\n<table border=\"1\" class=\"dataframe\">\n  <thead>\n    <tr style=\"text-align: right;\">\n      <th></th>\n      <th>Distrito</th>\n      <th>Concelho</th>\n      <th>cod_postal</th>\n      <th>Freguesia</th>\n    </tr>\n  </thead>\n  <tbody>\n    <tr>\n      <th>0</th>\n      <td>Aveiro</td>\n      <td>Águeda</td>\n      <td>3750011</td>\n      <td>Agadão</td>\n    </tr>\n    <tr>\n      <th>1</th>\n      <td>Aveiro</td>\n      <td>Águeda</td>\n      <td>3750012</td>\n      <td>Agadão</td>\n    </tr>\n    <tr>\n      <th>2</th>\n      <td>Aveiro</td>\n      <td>Águeda</td>\n      <td>3750013</td>\n      <td>Agadão</td>\n    </tr>\n    <tr>\n      <th>3</th>\n      <td>Aveiro</td>\n      <td>Águeda</td>\n      <td>3750014</td>\n      <td>Agadão</td>\n    </tr>\n    <tr>\n      <th>4</th>\n      <td>Aveiro</td>\n      <td>Águeda</td>\n      <td>3750015</td>\n      <td>Agadão</td>\n    </tr>\n  </tbody>\n</table>\n</div>"
     },
     "metadata": {},
     "execution_count": 7
    }
   ],
   "source": [
    "cod_post_dcfre_df.head()"
   ]
  },
  {
   "source": [
    "We see that there are some *freguesias* missing for some postal codes. We will leave them missing for now as an easy solution for this problem has not been found."
   ],
   "cell_type": "markdown",
   "metadata": {}
  },
  {
   "cell_type": "code",
   "execution_count": 8,
   "metadata": {},
   "outputs": [
    {
     "output_type": "execute_result",
     "data": {
      "text/plain": [
       "             Distrito           Concelho  cod_postal Freguesia\n",
       "46             Aveiro             Águeda     3750328       NaN\n",
       "47             Aveiro             Águeda     3750332       NaN\n",
       "156            Aveiro             Águeda     3750354       NaN\n",
       "288            Aveiro             Águeda     3750553       NaN\n",
       "429            Aveiro             Águeda     3750757       NaN\n",
       "...               ...                ...         ...       ...\n",
       "194361  Ilha Terceira  Angra do Heroísmo     9700593       NaN\n",
       "194570  Ilha Terceira   Praia da Vitória     9760302       NaN\n",
       "195580   Ilha do Pico           Madalena     9950367       NaN\n",
       "195669   Ilha do Pico  São Roque do Pico     9940070       NaN\n",
       "195787   Ilha do Pico  São Roque do Pico     9940362       NaN\n",
       "\n",
       "[1257 rows x 4 columns]"
      ],
      "text/html": "<div>\n<style scoped>\n    .dataframe tbody tr th:only-of-type {\n        vertical-align: middle;\n    }\n\n    .dataframe tbody tr th {\n        vertical-align: top;\n    }\n\n    .dataframe thead th {\n        text-align: right;\n    }\n</style>\n<table border=\"1\" class=\"dataframe\">\n  <thead>\n    <tr style=\"text-align: right;\">\n      <th></th>\n      <th>Distrito</th>\n      <th>Concelho</th>\n      <th>cod_postal</th>\n      <th>Freguesia</th>\n    </tr>\n  </thead>\n  <tbody>\n    <tr>\n      <th>46</th>\n      <td>Aveiro</td>\n      <td>Águeda</td>\n      <td>3750328</td>\n      <td>NaN</td>\n    </tr>\n    <tr>\n      <th>47</th>\n      <td>Aveiro</td>\n      <td>Águeda</td>\n      <td>3750332</td>\n      <td>NaN</td>\n    </tr>\n    <tr>\n      <th>156</th>\n      <td>Aveiro</td>\n      <td>Águeda</td>\n      <td>3750354</td>\n      <td>NaN</td>\n    </tr>\n    <tr>\n      <th>288</th>\n      <td>Aveiro</td>\n      <td>Águeda</td>\n      <td>3750553</td>\n      <td>NaN</td>\n    </tr>\n    <tr>\n      <th>429</th>\n      <td>Aveiro</td>\n      <td>Águeda</td>\n      <td>3750757</td>\n      <td>NaN</td>\n    </tr>\n    <tr>\n      <th>...</th>\n      <td>...</td>\n      <td>...</td>\n      <td>...</td>\n      <td>...</td>\n    </tr>\n    <tr>\n      <th>194361</th>\n      <td>Ilha Terceira</td>\n      <td>Angra do Heroísmo</td>\n      <td>9700593</td>\n      <td>NaN</td>\n    </tr>\n    <tr>\n      <th>194570</th>\n      <td>Ilha Terceira</td>\n      <td>Praia da Vitória</td>\n      <td>9760302</td>\n      <td>NaN</td>\n    </tr>\n    <tr>\n      <th>195580</th>\n      <td>Ilha do Pico</td>\n      <td>Madalena</td>\n      <td>9950367</td>\n      <td>NaN</td>\n    </tr>\n    <tr>\n      <th>195669</th>\n      <td>Ilha do Pico</td>\n      <td>São Roque do Pico</td>\n      <td>9940070</td>\n      <td>NaN</td>\n    </tr>\n    <tr>\n      <th>195787</th>\n      <td>Ilha do Pico</td>\n      <td>São Roque do Pico</td>\n      <td>9940362</td>\n      <td>NaN</td>\n    </tr>\n  </tbody>\n</table>\n<p>1257 rows × 4 columns</p>\n</div>"
     },
     "metadata": {},
     "execution_count": 8
    }
   ],
   "source": [
    "cod_post_dcfre_df.query('Freguesia.isna()')"
   ]
  },
  {
   "source": [
    "# Preparing data for *join* operation"
   ],
   "cell_type": "markdown",
   "metadata": {}
  },
  {
   "source": [
    "We can start by indexing the data by *Distrito*, *Concelho* and *Freguesia*:"
   ],
   "cell_type": "markdown",
   "metadata": {}
  },
  {
   "cell_type": "code",
   "execution_count": 9,
   "metadata": {},
   "outputs": [],
   "source": [
    "cod_post_dcfre_df.set_index('Distrito', inplace=True)\n",
    "cod_post_dcfre_df.set_index('Concelho', inplace=True, append=True)\n",
    "cod_post_dcfre_df.set_index('Freguesia', inplace=True, append=True)"
   ]
  },
  {
   "cell_type": "code",
   "execution_count": 10,
   "metadata": {},
   "outputs": [
    {
     "output_type": "execute_result",
     "data": {
      "text/plain": [
       "                             cod_postal\n",
       "Distrito Concelho Freguesia            \n",
       "Aveiro   Águeda   Agadão        3750011\n",
       "                  Agadão        3750012\n",
       "                  Agadão        3750013\n",
       "                  Agadão        3750014\n",
       "                  Agadão        3750015"
      ],
      "text/html": "<div>\n<style scoped>\n    .dataframe tbody tr th:only-of-type {\n        vertical-align: middle;\n    }\n\n    .dataframe tbody tr th {\n        vertical-align: top;\n    }\n\n    .dataframe thead th {\n        text-align: right;\n    }\n</style>\n<table border=\"1\" class=\"dataframe\">\n  <thead>\n    <tr style=\"text-align: right;\">\n      <th></th>\n      <th></th>\n      <th></th>\n      <th>cod_postal</th>\n    </tr>\n    <tr>\n      <th>Distrito</th>\n      <th>Concelho</th>\n      <th>Freguesia</th>\n      <th></th>\n    </tr>\n  </thead>\n  <tbody>\n    <tr>\n      <th rowspan=\"5\" valign=\"top\">Aveiro</th>\n      <th rowspan=\"5\" valign=\"top\">Águeda</th>\n      <th>Agadão</th>\n      <td>3750011</td>\n    </tr>\n    <tr>\n      <th>Agadão</th>\n      <td>3750012</td>\n    </tr>\n    <tr>\n      <th>Agadão</th>\n      <td>3750013</td>\n    </tr>\n    <tr>\n      <th>Agadão</th>\n      <td>3750014</td>\n    </tr>\n    <tr>\n      <th>Agadão</th>\n      <td>3750015</td>\n    </tr>\n  </tbody>\n</table>\n</div>"
     },
     "metadata": {},
     "execution_count": 10
    }
   ],
   "source": [
    "cod_post_dcfre_df.head()"
   ]
  },
  {
   "cell_type": "code",
   "execution_count": 11,
   "metadata": {},
   "outputs": [],
   "source": [
    "cod_post_map_df.set_index('Distrito', inplace=True)\n",
    "cod_post_map_df.set_index('Concelho', inplace=True, append=True)\n",
    "cod_post_map_df.set_index('Freguesia', inplace=True, append=True)"
   ]
  },
  {
   "cell_type": "code",
   "execution_count": 12,
   "metadata": {},
   "outputs": [
    {
     "output_type": "execute_result",
     "data": {
      "text/plain": [
       "                                     Alteração RATF  \\\n",
       "Distrito Concelho Freguesia                           \n",
       "Aveiro   Águeda   Aguada de Cima      Sem alteração   \n",
       "                  Fermentelos         Sem alteração   \n",
       "                  Macinhata do Vouga  Sem alteração   \n",
       "                  Valongo do Vouga    Sem alteração   \n",
       "                  Águeda                  Agregação   \n",
       "\n",
       "                                                     Freguesia Final (Pós RATF)  \n",
       "Distrito Concelho Freguesia                                                      \n",
       "Aveiro   Águeda   Aguada de Cima                                 Aguada de Cima  \n",
       "                  Fermentelos                                       Fermentelos  \n",
       "                  Macinhata do Vouga                         Macinhata do Vouga  \n",
       "                  Valongo do Vouga                             Valongo do Vouga  \n",
       "                  Águeda              União das freguesias de Águeda e Borralha  "
      ],
      "text/html": "<div>\n<style scoped>\n    .dataframe tbody tr th:only-of-type {\n        vertical-align: middle;\n    }\n\n    .dataframe tbody tr th {\n        vertical-align: top;\n    }\n\n    .dataframe thead th {\n        text-align: right;\n    }\n</style>\n<table border=\"1\" class=\"dataframe\">\n  <thead>\n    <tr style=\"text-align: right;\">\n      <th></th>\n      <th></th>\n      <th></th>\n      <th>Alteração RATF</th>\n      <th>Freguesia Final (Pós RATF)</th>\n    </tr>\n    <tr>\n      <th>Distrito</th>\n      <th>Concelho</th>\n      <th>Freguesia</th>\n      <th></th>\n      <th></th>\n    </tr>\n  </thead>\n  <tbody>\n    <tr>\n      <th rowspan=\"5\" valign=\"top\">Aveiro</th>\n      <th rowspan=\"5\" valign=\"top\">Águeda</th>\n      <th>Aguada de Cima</th>\n      <td>Sem alteração</td>\n      <td>Aguada de Cima</td>\n    </tr>\n    <tr>\n      <th>Fermentelos</th>\n      <td>Sem alteração</td>\n      <td>Fermentelos</td>\n    </tr>\n    <tr>\n      <th>Macinhata do Vouga</th>\n      <td>Sem alteração</td>\n      <td>Macinhata do Vouga</td>\n    </tr>\n    <tr>\n      <th>Valongo do Vouga</th>\n      <td>Sem alteração</td>\n      <td>Valongo do Vouga</td>\n    </tr>\n    <tr>\n      <th>Águeda</th>\n      <td>Agregação</td>\n      <td>União das freguesias de Águeda e Borralha</td>\n    </tr>\n  </tbody>\n</table>\n</div>"
     },
     "metadata": {},
     "execution_count": 12
    }
   ],
   "source": [
    "cod_post_map_df.head()"
   ]
  },
  {
   "source": [
    "## Simple join"
   ],
   "cell_type": "markdown",
   "metadata": {}
  },
  {
   "cell_type": "code",
   "execution_count": 13,
   "metadata": {},
   "outputs": [],
   "source": [
    "cod_post_final_df = cod_post_dcfre_df.join(cod_post_map_df)"
   ]
  },
  {
   "source": [
    "We see that we are left with a lot of missing values (26483). This means the join was not successful in matching all index entries."
   ],
   "cell_type": "markdown",
   "metadata": {}
  },
  {
   "cell_type": "code",
   "execution_count": 14,
   "metadata": {},
   "outputs": [
    {
     "output_type": "execute_result",
     "data": {
      "text/plain": [
       "cod_postal                        0\n",
       "Alteração RATF                26548\n",
       "Freguesia Final (Pós RATF)    26548\n",
       "dtype: int64"
      ]
     },
     "metadata": {},
     "execution_count": 14
    }
   ],
   "source": [
    "cod_post_final_df.isna().sum()"
   ]
  },
  {
   "source": [
    "## Simplifying the text"
   ],
   "cell_type": "markdown",
   "metadata": {}
  },
  {
   "source": [
    "We can try removing/replacing some *unimportant* characters in the data, to match possible misspellings of the same name:"
   ],
   "cell_type": "markdown",
   "metadata": {}
  },
  {
   "cell_type": "code",
   "execution_count": 15,
   "metadata": {},
   "outputs": [],
   "source": [
    "def simplify(x):\n",
    "    if type(x) == str:\n",
    "        x = x.lower()\n",
    "        x = x.replace(' da ', '')\n",
    "        x = x.replace(' do ', '')\n",
    "        x = x.replace(' de ', '')\n",
    "        x = x.replace(' dos ', '')\n",
    "        x = x.replace(' das ', '')\n",
    "        x = x.replace(' d\\' ', '')\n",
    "        x = x.replace(' e ', '')\n",
    "        x = x.replace(' ', '')\n",
    "        x = x.replace('-', '')\n",
    "        x = x.replace('ã', 'a')\n",
    "        x = x.replace('à', 'a')\n",
    "        x = x.replace('â', 'a')\n",
    "        x = x.replace('á', 'a')\n",
    "        x = x.replace('é', 'e')\n",
    "        x = x.replace('ê', 'e')\n",
    "        x = x.replace('ú', 'u')\n",
    "        x = x.replace('í', 'i')\n",
    "        x = x.replace('ó', 'o')\n",
    "        x = x.replace('ô', 'o')\n",
    "        x = x.replace('õ', 'o')\n",
    "        x = x.replace('ç', 'c')\n",
    "        x = x.replace('\\'', '')\n",
    "        x = x.replace('(', '|')\n",
    "        x = x.replace(')', '')\n",
    "        x = x.replace(',', '')\n",
    "    return x"
   ]
  },
  {
   "cell_type": "code",
   "execution_count": 16,
   "metadata": {},
   "outputs": [],
   "source": [
    "cod_post_dcfre_df.reset_index(level=['Distrito', 'Concelho', 'Freguesia'], inplace=True)\n",
    "\n",
    "cod_post_dcfre_df['Distrito_idx'] = cod_post_dcfre_df['Distrito'].apply(simplify)\n",
    "cod_post_dcfre_df['Concelho_idx'] = cod_post_dcfre_df['Concelho'].apply(simplify)\n",
    "cod_post_dcfre_df['Freguesia_idx'] = cod_post_dcfre_df['Freguesia'].apply(simplify)\n",
    "\n",
    "cod_post_dcfre_df.set_index('Distrito_idx', inplace=True)\n",
    "cod_post_dcfre_df.set_index('Concelho_idx', inplace=True, append=True)\n",
    "cod_post_dcfre_df.set_index('Freguesia_idx', inplace=True, append=True)"
   ]
  },
  {
   "cell_type": "code",
   "execution_count": 17,
   "metadata": {},
   "outputs": [],
   "source": [
    "cod_post_map_df.reset_index(level=['Distrito', 'Concelho', 'Freguesia'], inplace=True)\n",
    "\n",
    "cod_post_map_df['Distrito_idx'] = cod_post_map_df['Distrito'].apply(simplify)\n",
    "cod_post_map_df['Concelho_idx'] = cod_post_map_df['Concelho'].apply(simplify)\n",
    "cod_post_map_df['Freguesia_idx'] = cod_post_map_df['Freguesia'].apply(simplify)\n",
    "\n",
    "cod_post_map_df.set_index('Distrito_idx', inplace=True)\n",
    "cod_post_map_df.set_index('Concelho_idx', inplace=True, append=True)\n",
    "cod_post_map_df.set_index('Freguesia_idx', inplace=True, append=True)"
   ]
  },
  {
   "source": [
    "We then perform the join again:"
   ],
   "cell_type": "markdown",
   "metadata": {}
  },
  {
   "cell_type": "code",
   "execution_count": 18,
   "metadata": {},
   "outputs": [],
   "source": [
    "cod_post_final_df = cod_post_dcfre_df.join(cod_post_map_df, rsuffix='_map')"
   ]
  },
  {
   "source": [
    "We can see that the simplification of the text helped match some more entries. We are left with 21798 entries missing (down from 26483)."
   ],
   "cell_type": "markdown",
   "metadata": {}
  },
  {
   "cell_type": "code",
   "execution_count": 19,
   "metadata": {},
   "outputs": [
    {
     "output_type": "execute_result",
     "data": {
      "text/plain": [
       "Distrito                          0\n",
       "Concelho                          0\n",
       "Freguesia                      1257\n",
       "cod_postal                        0\n",
       "Distrito_map                  21863\n",
       "Concelho_map                  21863\n",
       "Freguesia_map                 21863\n",
       "Alteração RATF                21863\n",
       "Freguesia Final (Pós RATF)    21863\n",
       "dtype: int64"
      ]
     },
     "metadata": {},
     "execution_count": 19
    }
   ],
   "source": [
    "cod_post_final_df.isna().sum()"
   ]
  },
  {
   "source": [
    "## Matching *Freguesias* with \"(\" in the name"
   ],
   "cell_type": "markdown",
   "metadata": {}
  },
  {
   "source": [
    "Please see that \"(\" has been replaced with \"|\" in the text simplification."
   ],
   "cell_type": "markdown",
   "metadata": {}
  },
  {
   "cell_type": "code",
   "execution_count": 20,
   "metadata": {
    "tags": []
   },
   "outputs": [],
   "source": [
    "cod_post_dcfre_idx_df = cod_post_dcfre_df.index.to_frame()\n",
    "cod_post_map_idx_df = cod_post_map_df.index.to_frame()\n",
    "\n",
    "cod_post_final_idx_df = cod_post_final_df.query('Freguesia_map.isna() & Freguesia.notna()').index.to_frame().drop_duplicates()\n",
    "for dist, conc, freg in zip(cod_post_final_idx_df['Distrito_idx'],\n",
    "                            cod_post_final_idx_df['Concelho_idx'],\n",
    "                            cod_post_final_idx_df['Freguesia_idx']):\n",
    "\n",
    "    for freg_map in cod_post_map_idx_df.loc[dist, conc, :]['Freguesia_idx'].values:\n",
    "        if '|' in freg_map:\n",
    "            freg_map_split = freg_map.split('|')\n",
    "            if freg_map_split[-1] == freg \\\n",
    "               or sum([f in freg for f in freg_map_split]) > 0: # Any parts of freg_map in the freg string\n",
    "                cod_post_dcfre_idx_df.loc[dist, conc, freg] = cod_post_dcfre_idx_df.loc[dist, conc, freg].replace({'Freguesia_idx': freg}, freg_map)  \n",
    "        elif '|' in freg:\n",
    "            freg_split = freg.split('|')\n",
    "            if freg_split[-1] == freg_map \\\n",
    "               or sum([f in freg_map for f in freg_split]) > 0: # Any parts of freg in the freg_map string\n",
    "                cod_post_dcfre_idx_df.loc[dist, conc, freg] = cod_post_dcfre_idx_df.loc[dist, conc, freg].replace({'Freguesia_idx': freg}, freg_map)"
   ]
  },
  {
   "cell_type": "code",
   "execution_count": 21,
   "metadata": {},
   "outputs": [],
   "source": [
    "cod_post_dcfre_idx_df.set_index('Distrito_idx', inplace=True)\n",
    "cod_post_dcfre_idx_df.set_index('Concelho_idx', inplace=True, append=True)\n",
    "cod_post_dcfre_idx_df.set_index('Freguesia_idx', inplace=True, append=True)\n",
    "\n",
    "cod_post_dcfre_df.index = cod_post_dcfre_idx_df.index"
   ]
  },
  {
   "cell_type": "code",
   "execution_count": 22,
   "metadata": {},
   "outputs": [],
   "source": [
    "cod_post_final_df = cod_post_dcfre_df.join(cod_post_map_df, rsuffix='_map')"
   ]
  },
  {
   "source": [
    "This step was a major improvement! Down to 3560 missing from 21798."
   ],
   "cell_type": "markdown",
   "metadata": {}
  },
  {
   "cell_type": "code",
   "execution_count": 23,
   "metadata": {},
   "outputs": [
    {
     "output_type": "execute_result",
     "data": {
      "text/plain": [
       "Distrito                         0\n",
       "Concelho                         0\n",
       "Freguesia                     1257\n",
       "cod_postal                       0\n",
       "Distrito_map                  3360\n",
       "Concelho_map                  3360\n",
       "Freguesia_map                 3360\n",
       "Alteração RATF                3360\n",
       "Freguesia Final (Pós RATF)    3360\n",
       "dtype: int64"
      ]
     },
     "metadata": {},
     "execution_count": 23
    }
   ],
   "source": [
    "cod_post_final_df.isna().sum()"
   ]
  },
  {
   "source": [
    "## Using *Levenshtein* + *Jaro* distances"
   ],
   "cell_type": "markdown",
   "metadata": {}
  },
  {
   "source": [
    "Using the *Levenshtein + Jaro* distances with a threshold (*2* was empirically chosen) we can match the closest pair of *freguesia* names in the same *distrito* and *concelho*:"
   ],
   "cell_type": "markdown",
   "metadata": {}
  },
  {
   "source": [
    "cod_post_dcfre_idx_df = cod_post_dcfre_df.index.to_frame()\n",
    "cod_post_map_idx_df = cod_post_map_df.index.to_frame()\n",
    "\n",
    "cod_post_final_idx_df = cod_post_final_df.query('Freguesia_map.isna() & Freguesia.notna()').index.to_frame().drop_duplicates()\n",
    "for dist, conc in zip(cod_post_final_idx_df['Distrito_idx'],\n",
    "                      cod_post_final_idx_df['Concelho_idx']):\n",
    "    try:\n",
    "        freg_arr = cod_post_final_idx_df.loc[dist, conc, :]['Freguesia_idx'].values\n",
    "        freg_map_arr = cod_post_map_idx_df.loc[dist, conc, :]['Freguesia_idx'].values\n",
    "        freg_dists = np.zeros([len(freg_arr), len(freg_map_arr)])\n",
    "        for i, freg in enumerate(freg_arr):\n",
    "            for j, freg_map in enumerate(freg_map_arr):\n",
    "                d0 = d1 = d2 = d3 = d4 = 99999\n",
    "                \n",
    "                d0 = levenshtein_distance(freg, freg_map) + jaro_distance(freg, freg_map)\n",
    "                \n",
    "                d1 = levenshtein_distance(freg.split('|')[0], freg_map) + jaro_distance(freg.split('|')[0], freg_map)\n",
    "                \n",
    "                try:\n",
    "                    d2 = levenshtein_distance(freg.split('|')[1], freg_map) + jaro_distance(freg.split('|')[1], freg_map)\n",
    "                except:\n",
    "                    ...\n",
    "\n",
    "                d3 = levenshtein_distance(freg, freg_map.split('|')[0]) + jaro_distance(freg, freg_map.split('|')[0])\n",
    "    \n",
    "                try:\n",
    "                    d4 = levenshtein_distance(freg, freg_map.split('|')[1]) + jaro_distance(freg, freg_map.split('|')[1])\n",
    "                except:\n",
    "                    ...\n",
    "\n",
    "                leven_dist = min(d0, d1, d2, d3, d4)\n",
    "                freg_dists[i, j] = leven_dist\n",
    "\n",
    "    except:\n",
    "        ...\n",
    "\n",
    "    for i, freg in enumerate(freg_arr):\n",
    "        min_loc = np.where(freg_dists[i]==freg_dists[i].min())\n",
    "        if freg_dists[i].min() < 2:\n",
    "            cod_post_dcfre_idx_df.loc[dist, conc, freg] = cod_post_dcfre_idx_df.loc[dist, conc, freg].replace({'Freguesia_idx': freg}, freg_map_arr[min_loc][0])"
   ],
   "cell_type": "code",
   "metadata": {
    "tags": []
   },
   "execution_count": 24,
   "outputs": []
  },
  {
   "cell_type": "code",
   "execution_count": 25,
   "metadata": {},
   "outputs": [],
   "source": [
    "cod_post_dcfre_idx_df.set_index('Distrito_idx', inplace=True)\n",
    "cod_post_dcfre_idx_df.set_index('Concelho_idx', inplace=True, append=True)\n",
    "cod_post_dcfre_idx_df.set_index('Freguesia_idx', inplace=True, append=True)\n",
    "\n",
    "cod_post_dcfre_df.index = cod_post_dcfre_idx_df.index"
   ]
  },
  {
   "cell_type": "code",
   "execution_count": 26,
   "metadata": {},
   "outputs": [],
   "source": [
    "cod_post_final_df = cod_post_dcfre_df.join(cod_post_map_df, rsuffix='_map')"
   ]
  },
  {
   "source": [
    "The use of the distances matched some of the missing values, but not all, since we used a distance threshold. Down to 2281 missing!"
   ],
   "cell_type": "markdown",
   "metadata": {}
  },
  {
   "cell_type": "code",
   "execution_count": 27,
   "metadata": {},
   "outputs": [
    {
     "output_type": "execute_result",
     "data": {
      "text/plain": [
       "Distrito                         0\n",
       "Concelho                         0\n",
       "Freguesia                     1257\n",
       "cod_postal                       0\n",
       "Distrito_map                  2281\n",
       "Concelho_map                  2281\n",
       "Freguesia_map                 2281\n",
       "Alteração RATF                2281\n",
       "Freguesia Final (Pós RATF)    2281\n",
       "dtype: int64"
      ]
     },
     "metadata": {},
     "execution_count": 27
    }
   ],
   "source": [
    "cod_post_final_df.isna().sum()"
   ]
  },
  {
   "source": [
    "## Manual data corrections"
   ],
   "cell_type": "markdown",
   "metadata": {}
  },
  {
   "source": [
    "At this point, we can visually inspect the causes of the missing values:"
   ],
   "cell_type": "markdown",
   "metadata": {}
  },
  {
   "cell_type": "code",
   "execution_count": 28,
   "metadata": {},
   "outputs": [],
   "source": [
    "final_df = cod_post_final_df.set_index('cod_postal')"
   ]
  },
  {
   "cell_type": "code",
   "execution_count": 29,
   "metadata": {},
   "outputs": [
    {
     "output_type": "execute_result",
     "data": {
      "text/plain": [
       "                    Distrito                Concelho  \\\n",
       "cod_postal                                             \n",
       "3020740               Aveiro                Mealhada   \n",
       "3870501               Aveiro                 Murtosa   \n",
       "3700994               Aveiro    Santa Maria da Feira   \n",
       "7830109                 Beja                   Serpa   \n",
       "4905009                Braga                Barcelos   \n",
       "4765154                Braga               Guimarães   \n",
       "4805608                Braga               Guimarães   \n",
       "4815761                Braga               Guimarães   \n",
       "4815756                Braga                  Vizela   \n",
       "4815759                Braga                  Vizela   \n",
       "3300375              Coimbra                 Arganil   \n",
       "3300376              Coimbra                 Arganil   \n",
       "3030911              Coimbra                 Coimbra   \n",
       "3090767              Coimbra         Figueira da Foz   \n",
       "3330132              Coimbra                    Góis   \n",
       "3200051              Coimbra                   Lousã   \n",
       "3200361              Coimbra                   Lousã   \n",
       "3200360              Coimbra                   Lousã   \n",
       "3405157              Coimbra    Oliveira do Hospital   \n",
       "3360036              Coimbra                Penacova   \n",
       "7154001                Évora                   Borba   \n",
       "7050631                Évora         Montemor-o-Novo   \n",
       "9700556        Ilha Terceira       Angra do Heroísmo   \n",
       "2460760               Leiria                Alcobaça   \n",
       "3250426               Leiria              Alvaiázere   \n",
       "3240650               Leiria                  Ansião   \n",
       "2525352               Leiria                 Peniche   \n",
       "2630305               Lisboa       Arruda dos Vinhos   \n",
       "1990400               Lisboa                  Lisboa   \n",
       "1990522               Lisboa                  Lisboa   \n",
       "1100124               Lisboa                  Lisboa   \n",
       "2530333               Lisboa                Lourinhã   \n",
       "2590202               Lisboa  Sobral de Monte Agraço   \n",
       "2560583               Lisboa           Torres Vedras   \n",
       "7350234           Portalegre                   Elvas   \n",
       "4620523                Porto                 Lousada   \n",
       "4575340                Porto      Marco de Canaveses   \n",
       "2330544             Santarém           Entroncamento   \n",
       "7570003              Setúbal                Grândola   \n",
       "4980351     Viana do Castelo          Ponte da Barca   \n",
       "4990530     Viana do Castelo           Ponte de Lima   \n",
       "4935559     Viana do Castelo        Viana do Castelo   \n",
       "4935301     Viana do Castelo        Viana do Castelo   \n",
       "4924001     Viana do Castelo   Vila Nova de Cerveira   \n",
       "4690405                Viseu                 Cinfães   \n",
       "3460151                Viseu                 Tondela   \n",
       "3500139                Viseu                   Viseu   \n",
       "\n",
       "                                     Freguesia Distrito_map Concelho_map  \\\n",
       "cod_postal                                                                 \n",
       "3020740                               Souselas          NaN          NaN   \n",
       "3870501                                Beduído          NaN          NaN   \n",
       "3700994                    São João da Madeira          NaN          NaN   \n",
       "7830109                 Vila Nova de São Bento          NaN          NaN   \n",
       "4905009                             Barroselas          NaN          NaN   \n",
       "4765154                                 Pedome          NaN          NaN   \n",
       "4805608                 São Vicente de Oleiros          NaN          NaN   \n",
       "4815761                                Tagilde          NaN          NaN   \n",
       "4815756                                  Conde          NaN          NaN   \n",
       "4815759                      São Jorge (Selho)          NaN          NaN   \n",
       "3300375                               Paradela          NaN          NaN   \n",
       "3300376                      São Pedro de Alva          NaN          NaN   \n",
       "3030911                       Miranda do Corvo          NaN          NaN   \n",
       "3090767                               Pelariga          NaN          NaN   \n",
       "3330132                                 Cabril          NaN          NaN   \n",
       "3200051                              Lavegadas          NaN          NaN   \n",
       "3200361                  Poiares (Santo André)          NaN          NaN   \n",
       "3200360                  São Miguel de Poiares          NaN          NaN   \n",
       "3405157                       Lagares da Beira          NaN          NaN   \n",
       "3360036                                Cercosa          NaN          NaN   \n",
       "7154001                              Conceição          NaN          NaN   \n",
       "7050631                    Cortiçadas de Lavre          NaN          NaN   \n",
       "9700556                             São Mateus          NaN          NaN   \n",
       "2460760                           Santo Onofre          NaN          NaN   \n",
       "3250426                  Igreja Nova do Sobral          NaN          NaN   \n",
       "3240650                                  Abiul          NaN          NaN   \n",
       "2525352                               Miragaia          NaN          NaN   \n",
       "2630305                              Sapataria          NaN          NaN   \n",
       "1990400                              Moscavide          NaN          NaN   \n",
       "1990522                                Sacavém          NaN          NaN   \n",
       "1100124                          São Cristóvão          NaN          NaN   \n",
       "2530333                          Monte Redondo          NaN          NaN   \n",
       "2590202                           São Quintino          NaN          NaN   \n",
       "2560583               Santa Maria e São Miguel          NaN          NaN   \n",
       "7350234     Ajuda São Salvador Santo Ildefonso          NaN          NaN   \n",
       "4620523                          Santa Eulália          NaN          NaN   \n",
       "4575340                                Paredes          NaN          NaN   \n",
       "2330544                               Assentiz          NaN          NaN   \n",
       "7570003                   Azinheira dos Barros          NaN          NaN   \n",
       "4980351          Grovelas São João Evangelista          NaN          NaN   \n",
       "4990530                                  Arcos          NaN          NaN   \n",
       "4935559                                  Neiva          NaN          NaN   \n",
       "4935301                      Vila Nova de Anha          NaN          NaN   \n",
       "4924001                                 Gandra          NaN          NaN   \n",
       "4690405                               Oliveira          NaN          NaN   \n",
       "3460151                         Lajeosa do Dão          NaN          NaN   \n",
       "3500139                            Santa Maria          NaN          NaN   \n",
       "\n",
       "           Freguesia_map Alteração RATF Freguesia Final (Pós RATF)  \n",
       "cod_postal                                                          \n",
       "3020740              NaN            NaN                        NaN  \n",
       "3870501              NaN            NaN                        NaN  \n",
       "3700994              NaN            NaN                        NaN  \n",
       "7830109              NaN            NaN                        NaN  \n",
       "4905009              NaN            NaN                        NaN  \n",
       "4765154              NaN            NaN                        NaN  \n",
       "4805608              NaN            NaN                        NaN  \n",
       "4815761              NaN            NaN                        NaN  \n",
       "4815756              NaN            NaN                        NaN  \n",
       "4815759              NaN            NaN                        NaN  \n",
       "3300375              NaN            NaN                        NaN  \n",
       "3300376              NaN            NaN                        NaN  \n",
       "3030911              NaN            NaN                        NaN  \n",
       "3090767              NaN            NaN                        NaN  \n",
       "3330132              NaN            NaN                        NaN  \n",
       "3200051              NaN            NaN                        NaN  \n",
       "3200361              NaN            NaN                        NaN  \n",
       "3200360              NaN            NaN                        NaN  \n",
       "3405157              NaN            NaN                        NaN  \n",
       "3360036              NaN            NaN                        NaN  \n",
       "7154001              NaN            NaN                        NaN  \n",
       "7050631              NaN            NaN                        NaN  \n",
       "9700556              NaN            NaN                        NaN  \n",
       "2460760              NaN            NaN                        NaN  \n",
       "3250426              NaN            NaN                        NaN  \n",
       "3240650              NaN            NaN                        NaN  \n",
       "2525352              NaN            NaN                        NaN  \n",
       "2630305              NaN            NaN                        NaN  \n",
       "1990400              NaN            NaN                        NaN  \n",
       "1990522              NaN            NaN                        NaN  \n",
       "1100124              NaN            NaN                        NaN  \n",
       "2530333              NaN            NaN                        NaN  \n",
       "2590202              NaN            NaN                        NaN  \n",
       "2560583              NaN            NaN                        NaN  \n",
       "7350234              NaN            NaN                        NaN  \n",
       "4620523              NaN            NaN                        NaN  \n",
       "4575340              NaN            NaN                        NaN  \n",
       "2330544              NaN            NaN                        NaN  \n",
       "7570003              NaN            NaN                        NaN  \n",
       "4980351              NaN            NaN                        NaN  \n",
       "4990530              NaN            NaN                        NaN  \n",
       "4935559              NaN            NaN                        NaN  \n",
       "4935301              NaN            NaN                        NaN  \n",
       "4924001              NaN            NaN                        NaN  \n",
       "4690405              NaN            NaN                        NaN  \n",
       "3460151              NaN            NaN                        NaN  \n",
       "3500139              NaN            NaN                        NaN  "
      ],
      "text/html": "<div>\n<style scoped>\n    .dataframe tbody tr th:only-of-type {\n        vertical-align: middle;\n    }\n\n    .dataframe tbody tr th {\n        vertical-align: top;\n    }\n\n    .dataframe thead th {\n        text-align: right;\n    }\n</style>\n<table border=\"1\" class=\"dataframe\">\n  <thead>\n    <tr style=\"text-align: right;\">\n      <th></th>\n      <th>Distrito</th>\n      <th>Concelho</th>\n      <th>Freguesia</th>\n      <th>Distrito_map</th>\n      <th>Concelho_map</th>\n      <th>Freguesia_map</th>\n      <th>Alteração RATF</th>\n      <th>Freguesia Final (Pós RATF)</th>\n    </tr>\n    <tr>\n      <th>cod_postal</th>\n      <th></th>\n      <th></th>\n      <th></th>\n      <th></th>\n      <th></th>\n      <th></th>\n      <th></th>\n      <th></th>\n    </tr>\n  </thead>\n  <tbody>\n    <tr>\n      <th>3020740</th>\n      <td>Aveiro</td>\n      <td>Mealhada</td>\n      <td>Souselas</td>\n      <td>NaN</td>\n      <td>NaN</td>\n      <td>NaN</td>\n      <td>NaN</td>\n      <td>NaN</td>\n    </tr>\n    <tr>\n      <th>3870501</th>\n      <td>Aveiro</td>\n      <td>Murtosa</td>\n      <td>Beduído</td>\n      <td>NaN</td>\n      <td>NaN</td>\n      <td>NaN</td>\n      <td>NaN</td>\n      <td>NaN</td>\n    </tr>\n    <tr>\n      <th>3700994</th>\n      <td>Aveiro</td>\n      <td>Santa Maria da Feira</td>\n      <td>São João da Madeira</td>\n      <td>NaN</td>\n      <td>NaN</td>\n      <td>NaN</td>\n      <td>NaN</td>\n      <td>NaN</td>\n    </tr>\n    <tr>\n      <th>7830109</th>\n      <td>Beja</td>\n      <td>Serpa</td>\n      <td>Vila Nova de São Bento</td>\n      <td>NaN</td>\n      <td>NaN</td>\n      <td>NaN</td>\n      <td>NaN</td>\n      <td>NaN</td>\n    </tr>\n    <tr>\n      <th>4905009</th>\n      <td>Braga</td>\n      <td>Barcelos</td>\n      <td>Barroselas</td>\n      <td>NaN</td>\n      <td>NaN</td>\n      <td>NaN</td>\n      <td>NaN</td>\n      <td>NaN</td>\n    </tr>\n    <tr>\n      <th>4765154</th>\n      <td>Braga</td>\n      <td>Guimarães</td>\n      <td>Pedome</td>\n      <td>NaN</td>\n      <td>NaN</td>\n      <td>NaN</td>\n      <td>NaN</td>\n      <td>NaN</td>\n    </tr>\n    <tr>\n      <th>4805608</th>\n      <td>Braga</td>\n      <td>Guimarães</td>\n      <td>São Vicente de Oleiros</td>\n      <td>NaN</td>\n      <td>NaN</td>\n      <td>NaN</td>\n      <td>NaN</td>\n      <td>NaN</td>\n    </tr>\n    <tr>\n      <th>4815761</th>\n      <td>Braga</td>\n      <td>Guimarães</td>\n      <td>Tagilde</td>\n      <td>NaN</td>\n      <td>NaN</td>\n      <td>NaN</td>\n      <td>NaN</td>\n      <td>NaN</td>\n    </tr>\n    <tr>\n      <th>4815756</th>\n      <td>Braga</td>\n      <td>Vizela</td>\n      <td>Conde</td>\n      <td>NaN</td>\n      <td>NaN</td>\n      <td>NaN</td>\n      <td>NaN</td>\n      <td>NaN</td>\n    </tr>\n    <tr>\n      <th>4815759</th>\n      <td>Braga</td>\n      <td>Vizela</td>\n      <td>São Jorge (Selho)</td>\n      <td>NaN</td>\n      <td>NaN</td>\n      <td>NaN</td>\n      <td>NaN</td>\n      <td>NaN</td>\n    </tr>\n    <tr>\n      <th>3300375</th>\n      <td>Coimbra</td>\n      <td>Arganil</td>\n      <td>Paradela</td>\n      <td>NaN</td>\n      <td>NaN</td>\n      <td>NaN</td>\n      <td>NaN</td>\n      <td>NaN</td>\n    </tr>\n    <tr>\n      <th>3300376</th>\n      <td>Coimbra</td>\n      <td>Arganil</td>\n      <td>São Pedro de Alva</td>\n      <td>NaN</td>\n      <td>NaN</td>\n      <td>NaN</td>\n      <td>NaN</td>\n      <td>NaN</td>\n    </tr>\n    <tr>\n      <th>3030911</th>\n      <td>Coimbra</td>\n      <td>Coimbra</td>\n      <td>Miranda do Corvo</td>\n      <td>NaN</td>\n      <td>NaN</td>\n      <td>NaN</td>\n      <td>NaN</td>\n      <td>NaN</td>\n    </tr>\n    <tr>\n      <th>3090767</th>\n      <td>Coimbra</td>\n      <td>Figueira da Foz</td>\n      <td>Pelariga</td>\n      <td>NaN</td>\n      <td>NaN</td>\n      <td>NaN</td>\n      <td>NaN</td>\n      <td>NaN</td>\n    </tr>\n    <tr>\n      <th>3330132</th>\n      <td>Coimbra</td>\n      <td>Góis</td>\n      <td>Cabril</td>\n      <td>NaN</td>\n      <td>NaN</td>\n      <td>NaN</td>\n      <td>NaN</td>\n      <td>NaN</td>\n    </tr>\n    <tr>\n      <th>3200051</th>\n      <td>Coimbra</td>\n      <td>Lousã</td>\n      <td>Lavegadas</td>\n      <td>NaN</td>\n      <td>NaN</td>\n      <td>NaN</td>\n      <td>NaN</td>\n      <td>NaN</td>\n    </tr>\n    <tr>\n      <th>3200361</th>\n      <td>Coimbra</td>\n      <td>Lousã</td>\n      <td>Poiares (Santo André)</td>\n      <td>NaN</td>\n      <td>NaN</td>\n      <td>NaN</td>\n      <td>NaN</td>\n      <td>NaN</td>\n    </tr>\n    <tr>\n      <th>3200360</th>\n      <td>Coimbra</td>\n      <td>Lousã</td>\n      <td>São Miguel de Poiares</td>\n      <td>NaN</td>\n      <td>NaN</td>\n      <td>NaN</td>\n      <td>NaN</td>\n      <td>NaN</td>\n    </tr>\n    <tr>\n      <th>3405157</th>\n      <td>Coimbra</td>\n      <td>Oliveira do Hospital</td>\n      <td>Lagares da Beira</td>\n      <td>NaN</td>\n      <td>NaN</td>\n      <td>NaN</td>\n      <td>NaN</td>\n      <td>NaN</td>\n    </tr>\n    <tr>\n      <th>3360036</th>\n      <td>Coimbra</td>\n      <td>Penacova</td>\n      <td>Cercosa</td>\n      <td>NaN</td>\n      <td>NaN</td>\n      <td>NaN</td>\n      <td>NaN</td>\n      <td>NaN</td>\n    </tr>\n    <tr>\n      <th>7154001</th>\n      <td>Évora</td>\n      <td>Borba</td>\n      <td>Conceição</td>\n      <td>NaN</td>\n      <td>NaN</td>\n      <td>NaN</td>\n      <td>NaN</td>\n      <td>NaN</td>\n    </tr>\n    <tr>\n      <th>7050631</th>\n      <td>Évora</td>\n      <td>Montemor-o-Novo</td>\n      <td>Cortiçadas de Lavre</td>\n      <td>NaN</td>\n      <td>NaN</td>\n      <td>NaN</td>\n      <td>NaN</td>\n      <td>NaN</td>\n    </tr>\n    <tr>\n      <th>9700556</th>\n      <td>Ilha Terceira</td>\n      <td>Angra do Heroísmo</td>\n      <td>São Mateus</td>\n      <td>NaN</td>\n      <td>NaN</td>\n      <td>NaN</td>\n      <td>NaN</td>\n      <td>NaN</td>\n    </tr>\n    <tr>\n      <th>2460760</th>\n      <td>Leiria</td>\n      <td>Alcobaça</td>\n      <td>Santo Onofre</td>\n      <td>NaN</td>\n      <td>NaN</td>\n      <td>NaN</td>\n      <td>NaN</td>\n      <td>NaN</td>\n    </tr>\n    <tr>\n      <th>3250426</th>\n      <td>Leiria</td>\n      <td>Alvaiázere</td>\n      <td>Igreja Nova do Sobral</td>\n      <td>NaN</td>\n      <td>NaN</td>\n      <td>NaN</td>\n      <td>NaN</td>\n      <td>NaN</td>\n    </tr>\n    <tr>\n      <th>3240650</th>\n      <td>Leiria</td>\n      <td>Ansião</td>\n      <td>Abiul</td>\n      <td>NaN</td>\n      <td>NaN</td>\n      <td>NaN</td>\n      <td>NaN</td>\n      <td>NaN</td>\n    </tr>\n    <tr>\n      <th>2525352</th>\n      <td>Leiria</td>\n      <td>Peniche</td>\n      <td>Miragaia</td>\n      <td>NaN</td>\n      <td>NaN</td>\n      <td>NaN</td>\n      <td>NaN</td>\n      <td>NaN</td>\n    </tr>\n    <tr>\n      <th>2630305</th>\n      <td>Lisboa</td>\n      <td>Arruda dos Vinhos</td>\n      <td>Sapataria</td>\n      <td>NaN</td>\n      <td>NaN</td>\n      <td>NaN</td>\n      <td>NaN</td>\n      <td>NaN</td>\n    </tr>\n    <tr>\n      <th>1990400</th>\n      <td>Lisboa</td>\n      <td>Lisboa</td>\n      <td>Moscavide</td>\n      <td>NaN</td>\n      <td>NaN</td>\n      <td>NaN</td>\n      <td>NaN</td>\n      <td>NaN</td>\n    </tr>\n    <tr>\n      <th>1990522</th>\n      <td>Lisboa</td>\n      <td>Lisboa</td>\n      <td>Sacavém</td>\n      <td>NaN</td>\n      <td>NaN</td>\n      <td>NaN</td>\n      <td>NaN</td>\n      <td>NaN</td>\n    </tr>\n    <tr>\n      <th>1100124</th>\n      <td>Lisboa</td>\n      <td>Lisboa</td>\n      <td>São Cristóvão</td>\n      <td>NaN</td>\n      <td>NaN</td>\n      <td>NaN</td>\n      <td>NaN</td>\n      <td>NaN</td>\n    </tr>\n    <tr>\n      <th>2530333</th>\n      <td>Lisboa</td>\n      <td>Lourinhã</td>\n      <td>Monte Redondo</td>\n      <td>NaN</td>\n      <td>NaN</td>\n      <td>NaN</td>\n      <td>NaN</td>\n      <td>NaN</td>\n    </tr>\n    <tr>\n      <th>2590202</th>\n      <td>Lisboa</td>\n      <td>Sobral de Monte Agraço</td>\n      <td>São Quintino</td>\n      <td>NaN</td>\n      <td>NaN</td>\n      <td>NaN</td>\n      <td>NaN</td>\n      <td>NaN</td>\n    </tr>\n    <tr>\n      <th>2560583</th>\n      <td>Lisboa</td>\n      <td>Torres Vedras</td>\n      <td>Santa Maria e São Miguel</td>\n      <td>NaN</td>\n      <td>NaN</td>\n      <td>NaN</td>\n      <td>NaN</td>\n      <td>NaN</td>\n    </tr>\n    <tr>\n      <th>7350234</th>\n      <td>Portalegre</td>\n      <td>Elvas</td>\n      <td>Ajuda São Salvador Santo Ildefonso</td>\n      <td>NaN</td>\n      <td>NaN</td>\n      <td>NaN</td>\n      <td>NaN</td>\n      <td>NaN</td>\n    </tr>\n    <tr>\n      <th>4620523</th>\n      <td>Porto</td>\n      <td>Lousada</td>\n      <td>Santa Eulália</td>\n      <td>NaN</td>\n      <td>NaN</td>\n      <td>NaN</td>\n      <td>NaN</td>\n      <td>NaN</td>\n    </tr>\n    <tr>\n      <th>4575340</th>\n      <td>Porto</td>\n      <td>Marco de Canaveses</td>\n      <td>Paredes</td>\n      <td>NaN</td>\n      <td>NaN</td>\n      <td>NaN</td>\n      <td>NaN</td>\n      <td>NaN</td>\n    </tr>\n    <tr>\n      <th>2330544</th>\n      <td>Santarém</td>\n      <td>Entroncamento</td>\n      <td>Assentiz</td>\n      <td>NaN</td>\n      <td>NaN</td>\n      <td>NaN</td>\n      <td>NaN</td>\n      <td>NaN</td>\n    </tr>\n    <tr>\n      <th>7570003</th>\n      <td>Setúbal</td>\n      <td>Grândola</td>\n      <td>Azinheira dos Barros</td>\n      <td>NaN</td>\n      <td>NaN</td>\n      <td>NaN</td>\n      <td>NaN</td>\n      <td>NaN</td>\n    </tr>\n    <tr>\n      <th>4980351</th>\n      <td>Viana do Castelo</td>\n      <td>Ponte da Barca</td>\n      <td>Grovelas São João Evangelista</td>\n      <td>NaN</td>\n      <td>NaN</td>\n      <td>NaN</td>\n      <td>NaN</td>\n      <td>NaN</td>\n    </tr>\n    <tr>\n      <th>4990530</th>\n      <td>Viana do Castelo</td>\n      <td>Ponte de Lima</td>\n      <td>Arcos</td>\n      <td>NaN</td>\n      <td>NaN</td>\n      <td>NaN</td>\n      <td>NaN</td>\n      <td>NaN</td>\n    </tr>\n    <tr>\n      <th>4935559</th>\n      <td>Viana do Castelo</td>\n      <td>Viana do Castelo</td>\n      <td>Neiva</td>\n      <td>NaN</td>\n      <td>NaN</td>\n      <td>NaN</td>\n      <td>NaN</td>\n      <td>NaN</td>\n    </tr>\n    <tr>\n      <th>4935301</th>\n      <td>Viana do Castelo</td>\n      <td>Viana do Castelo</td>\n      <td>Vila Nova de Anha</td>\n      <td>NaN</td>\n      <td>NaN</td>\n      <td>NaN</td>\n      <td>NaN</td>\n      <td>NaN</td>\n    </tr>\n    <tr>\n      <th>4924001</th>\n      <td>Viana do Castelo</td>\n      <td>Vila Nova de Cerveira</td>\n      <td>Gandra</td>\n      <td>NaN</td>\n      <td>NaN</td>\n      <td>NaN</td>\n      <td>NaN</td>\n      <td>NaN</td>\n    </tr>\n    <tr>\n      <th>4690405</th>\n      <td>Viseu</td>\n      <td>Cinfães</td>\n      <td>Oliveira</td>\n      <td>NaN</td>\n      <td>NaN</td>\n      <td>NaN</td>\n      <td>NaN</td>\n      <td>NaN</td>\n    </tr>\n    <tr>\n      <th>3460151</th>\n      <td>Viseu</td>\n      <td>Tondela</td>\n      <td>Lajeosa do Dão</td>\n      <td>NaN</td>\n      <td>NaN</td>\n      <td>NaN</td>\n      <td>NaN</td>\n      <td>NaN</td>\n    </tr>\n    <tr>\n      <th>3500139</th>\n      <td>Viseu</td>\n      <td>Viseu</td>\n      <td>Santa Maria</td>\n      <td>NaN</td>\n      <td>NaN</td>\n      <td>NaN</td>\n      <td>NaN</td>\n      <td>NaN</td>\n    </tr>\n  </tbody>\n</table>\n</div>"
     },
     "metadata": {},
     "execution_count": 29
    }
   ],
   "source": [
    "final_df.query('Freguesia_map.isna() & Freguesia.notna()').drop_duplicates()"
   ]
  },
  {
   "source": [
    "By examining the data we conclude that it has two different problems:\n",
    "\n",
    "1.  Some *freguesias* are in the wrong *concelho*/*distrito* because the data comes from the postal code locations so, there are some postal codes in a given *concelho*/*distrito* that belong to a *freguesia* which is located in a different *concelho*/*distrito* (e.g. *Barroselas*).\n",
    "2.  Some *freguesias* have largelly different names in each of the databases (e.g. *Grovelas São João Evangelista* vs *Grovelas*)\n",
    "\n",
    "An obvious, automated, approach to solving these problems has not been found. However, they can easily be fixed by hand:\n",
    "\n",
    "1. Doing a simple internet search of the *freguesias* and checking their *distrito* and *concelho*.\n",
    "2. Inspecting the databases, for problem 2."
   ],
   "cell_type": "markdown",
   "metadata": {}
  },
  {
   "source": [
    "cod_post_dcfre_idx_df = cod_post_dcfre_df.index.to_frame()\n",
    "cod_post_map_idx_df = cod_post_map_df.index.to_frame()"
   ],
   "cell_type": "code",
   "metadata": {},
   "execution_count": 30,
   "outputs": []
  },
  {
   "source": [
    "cod_post_dcfre_idx_df.loc['aveiro', 'mealhada', 'souselas'] = cod_post_dcfre_idx_df.loc['aveiro', 'mealhada', 'souselas'].replace('aveiro', 'coimbra').replace('mealhada', 'coimbra')\n",
    "cod_post_dcfre_idx_df.loc['aveiro', 'murtosa', 'beduido'] = cod_post_dcfre_idx_df.loc['aveiro', 'murtosa', 'beduido'].replace('murtosa', 'estarreja')\n",
    "cod_post_dcfre_idx_df.loc['aveiro', 'santamariafeira', 'saojoaomadeira'] = cod_post_dcfre_idx_df.loc['aveiro', 'santamariafeira', 'saojoaomadeira'].replace('santamariafeira', 'saojoaomadeira')\n",
    "cod_post_dcfre_idx_df.loc['beja', 'serpa', 'vilanovasaobento'] = cod_post_dcfre_idx_df.loc['beja', 'serpa', 'vilanovasaobento'].replace('vilanovasaobento', 'aldeianovasaobento')\n",
    "cod_post_dcfre_idx_df.loc['braga', 'barcelos', 'barroselas'] = cod_post_dcfre_idx_df.loc['braga', 'barcelos', 'barroselas'].replace('braga', 'vianacastelo').replace('barcelos','vianacastelo')\n",
    "cod_post_dcfre_idx_df.loc['braga', 'guimaraes', 'pedome'] = cod_post_dcfre_idx_df.loc['braga', 'guimaraes', 'pedome'].replace('guimaraes', 'vilanovafamalicao')\n",
    "cod_post_dcfre_idx_df.loc['braga', 'guimaraes', 'saovicenteoleiros'] = cod_post_dcfre_idx_df.loc['braga', 'guimaraes', 'saovicenteoleiros'].replace('saovicenteoleiros', 'oleiros')\n",
    "cod_post_dcfre_idx_df.loc['braga', 'guimaraes', 'tagilde'] = cod_post_dcfre_idx_df.loc['braga', 'guimaraes', 'tagilde'].replace('guimaraes', 'vizela')\n",
    "cod_post_dcfre_idx_df.loc['braga', 'vizela', 'conde'] = cod_post_dcfre_idx_df.loc['braga', 'vizela', 'conde'].replace({'Concelho_idx': 'vizela'}, 'guimaraes')\n",
    "cod_post_dcfre_idx_df.loc['braga', 'vizela', 'saojorge|selho'] = cod_post_dcfre_idx_df.loc['braga', 'vizela', 'saojorge|selho'].replace('vizela', 'guimaraes').replace('saojorge|selho', 'selho|saojorge')\n",
    "cod_post_dcfre_idx_df.loc['coimbra', 'arganil', 'paradela'] = cod_post_dcfre_idx_df.loc['coimbra', 'arganil', 'paradela'].replace('arganil', 'penacova')\n",
    "cod_post_dcfre_idx_df.loc['coimbra', 'arganil', 'saopedroalva'] = cod_post_dcfre_idx_df.loc['coimbra', 'arganil', 'saopedroalva'].replace('arganil', 'penacova')\n",
    "cod_post_dcfre_idx_df.loc['coimbra', 'coimbra', 'mirandacorvo'] = cod_post_dcfre_idx_df.loc['coimbra', 'coimbra', 'mirandacorvo'].replace({'Concelho_idx': 'coimbra'}, 'mirandacorvo')\n",
    "cod_post_dcfre_idx_df.loc['coimbra', 'figueirafoz', 'pelariga'] = cod_post_dcfre_idx_df.loc['coimbra', 'figueirafoz', 'pelariga'].replace('coimbra', 'leiria').replace('figueirafoz', 'pombal')\n",
    "cod_post_dcfre_idx_df.loc['coimbra', 'gois', 'cabril'] = cod_post_dcfre_idx_df.loc['coimbra', 'gois', 'cabril'].replace('gois', 'pampilhosaserra')\n",
    "cod_post_dcfre_idx_df.loc['coimbra', 'lousa', 'lavegadas'] = cod_post_dcfre_idx_df.loc['coimbra', 'lousa', 'lavegadas'].replace('lousa', 'vilanovapoiares')\n",
    "cod_post_dcfre_idx_df.loc['coimbra', 'lousa', 'poiares|santoandre'] = cod_post_dcfre_idx_df.loc['coimbra', 'lousa', 'poiares|santoandre'].replace('lousa', 'vilanovapoiares')\n",
    "cod_post_dcfre_idx_df.loc['coimbra', 'lousa', 'saomiguelpoiares'] = cod_post_dcfre_idx_df.loc['coimbra', 'lousa', 'saomiguelpoiares'].replace('lousa', 'vilanovapoiares')\n",
    "cod_post_dcfre_idx_df.loc['coimbra', 'oliveirahospital', 'lagaresbeira'] = cod_post_dcfre_idx_df.loc['coimbra', 'oliveirahospital', 'lagaresbeira'].replace('lagaresbeira', 'lagares')\n",
    "cod_post_dcfre_idx_df.loc['coimbra', 'penacova', 'cercosa'] = cod_post_dcfre_idx_df.loc['coimbra', 'penacova', 'cercosa'].replace('coimbra', 'viseu').replace('penacova', 'mortagua')\n",
    "cod_post_dcfre_idx_df.loc['evora', 'borba', 'conceicao'] = cod_post_dcfre_idx_df.loc['evora', 'borba', 'conceicao'].replace('borba', 'alandroal').replace('conceicao', 'alandroal|nossasenhoraconceicao')\n",
    "cod_post_dcfre_idx_df.loc['evora', 'montemoronovo', 'corticadaslavre'] = cod_post_dcfre_idx_df.loc['evora', 'montemoronovo', 'corticadaslavre'].replace('corticadaslavre', 'corticadas')\n",
    "cod_post_dcfre_idx_df.loc['ilhaterceira', 'angraheroismo', 'saomateus'] = cod_post_dcfre_idx_df.loc['ilhaterceira', 'angraheroismo', 'saomateus'].replace('saomateus', 'saomateuscalheta')\n",
    "cod_post_dcfre_idx_df.loc['leiria', 'alcobaca', 'santoonofre'] = cod_post_dcfre_idx_df.loc['leiria', 'alcobaca', 'santoonofre'].replace('alcobaca', 'caldasrainha').replace('santoonofre', 'caldasrainha|santoonofre')\n",
    "cod_post_dcfre_idx_df.loc['leiria', 'alvaiazere', 'igrejanovasobral'] = cod_post_dcfre_idx_df.loc['leiria', 'alvaiazere', 'igrejanovasobral'].replace('leiria', 'santarem').replace('alvaiazere', 'ferreirazezere')\n",
    "cod_post_dcfre_idx_df.loc['leiria', 'ansiao', 'abiul'] = cod_post_dcfre_idx_df.loc['leiria', 'ansiao', 'abiul'].replace('ansiao', 'pombal')\n",
    "cod_post_dcfre_idx_df.loc['leiria', 'peniche', 'miragaia'] = cod_post_dcfre_idx_df.loc['leiria', 'peniche', 'miragaia'].replace('leiria', 'lisboa').replace('peniche', 'lourinha')\n",
    "cod_post_dcfre_idx_df.loc['lisboa', 'arrudavinhos', 'sapataria'] = cod_post_dcfre_idx_df.loc['lisboa', 'arrudavinhos', 'sapataria'].replace('arrudavinhos', 'sobralmonteagraco')\n",
    "cod_post_dcfre_idx_df.loc['lisboa', 'lisboa', 'moscavide'] = cod_post_dcfre_idx_df.loc['lisboa', 'lisboa', 'moscavide'].replace({'Concelho_idx': 'lisboa'}, 'loures')\n",
    "cod_post_dcfre_idx_df.loc['lisboa', 'lisboa', 'sacavem'] = cod_post_dcfre_idx_df.loc['lisboa', 'lisboa', 'sacavem'].replace({'Concelho_idx': 'lisboa'}, 'loures')\n",
    "cod_post_dcfre_idx_df.loc['lisboa', 'lisboa', 'saocristovao'] = cod_post_dcfre_idx_df.loc['lisboa', 'lisboa', 'saocristovao'].replace('saocristovao', 'saocristovaosaolourenco')\n",
    "cod_post_dcfre_idx_df.loc['lisboa', 'lourinha', 'monteredondo'] = cod_post_dcfre_idx_df.loc['lisboa', 'lourinha', 'monteredondo'].replace('lourinha', 'torresvedras')\n",
    "cod_post_dcfre_idx_df.loc['lisboa', 'sobralmonteagraco', 'saoquintino'] = cod_post_dcfre_idx_df.loc['lisboa', 'sobralmonteagraco', 'saoquintino'].replace('saoquintino', 'santoquintino')\n",
    "cod_post_dcfre_idx_df.loc['lisboa', 'torresvedras', 'santamariasaomiguel'] = cod_post_dcfre_idx_df.loc['lisboa', 'torresvedras', 'santamariasaomiguel'].replace('santamariasaomiguel', 'torresvedras|santamariacastelosaomiguel')\n",
    "cod_post_dcfre_idx_df.loc['portalegre', 'elvas', 'ajudasaosalvadorsantoildefonso'] = cod_post_dcfre_idx_df.loc['portalegre', 'elvas', 'ajudasaosalvadorsantoildefonso'].replace('ajudasaosalvadorsantoildefonso', 'ajudasalvadorsantoildefonso')\n",
    "cod_post_dcfre_idx_df.loc['porto', 'lousada', 'santaeulalia'] = cod_post_dcfre_idx_df.loc['porto', 'lousada', 'santaeulalia'].replace('lousada', 'felgueiras').replace('santaeulalia', 'margaride|santaeulalia')\n",
    "cod_post_dcfre_idx_df.loc['porto', 'marcocanaveses', 'paredes'] = cod_post_dcfre_idx_df.loc['porto', 'marcocanaveses', 'paredes'].replace('paredes', 'paredesviadores')\n",
    "cod_post_dcfre_idx_df.loc['santarem', 'entroncamento', 'assentiz'] = cod_post_dcfre_idx_df.loc['santarem', 'entroncamento', 'assentiz'].replace('entroncamento', 'riomaior')\n",
    "cod_post_dcfre_idx_df.loc['setubal', 'grandola', 'azinheirabarros'] = cod_post_dcfre_idx_df.loc['setubal', 'grandola', 'azinheirabarros'].replace('azinheirabarros', 'azinheirabarrossaomamedesadao')\n",
    "cod_post_dcfre_idx_df.loc['vianacastelo', 'vianacastelo', 'neiva'] = cod_post_dcfre_idx_df.loc['vianacastelo', 'vianacastelo', 'neiva'].replace('neiva', 'casteloneiva')\n",
    "cod_post_dcfre_idx_df.loc['vianacastelo', 'pontebarca', 'grovelassaojoaoevangelista'] = cod_post_dcfre_idx_df.loc['vianacastelo', 'pontebarca', 'grovelassaojoaoevangelista'].replace('grovelassaojoaoevangelista', 'grovelas')\n",
    "cod_post_dcfre_idx_df.loc['vianacastelo', 'pontelima', 'arcos'] = cod_post_dcfre_idx_df.loc['vianacastelo', 'pontelima', 'arcos'].replace('arcos', 'saopedroarcos')\n",
    "cod_post_dcfre_idx_df.loc['vianacastelo', 'vianacastelo', 'vilanovaanha'] = cod_post_dcfre_idx_df.loc['vianacastelo', 'vianacastelo', 'vilanovaanha'].replace('vilanovaanha', 'anha')\n",
    "cod_post_dcfre_idx_df.loc['vianacastelo', 'vilanovacerveira', 'gandra'] = cod_post_dcfre_idx_df.loc['vianacastelo', 'vilanovacerveira', 'gandra'].replace('vilanovacerveira', 'pontelima')\n",
    "cod_post_dcfre_idx_df.loc['viseu', 'cinfaes', 'oliveira'] = cod_post_dcfre_idx_df.loc['viseu', 'cinfaes', 'oliveira'].replace('oliveira', 'oliveiradouro')\n",
    "cod_post_dcfre_idx_df.loc['viseu', 'tondela', 'lajeosadao'] = cod_post_dcfre_idx_df.loc['viseu', 'tondela', 'lajeosadao'].replace('lajeosadao', 'lajeosa')\n",
    "cod_post_dcfre_idx_df.loc['viseu', 'viseu', 'santamaria'] = cod_post_dcfre_idx_df.loc['viseu', 'viseu', 'santamaria'].replace('santamaria', 'viseu|santamariaviseu')"
   ],
   "cell_type": "code",
   "metadata": {},
   "execution_count": 31,
   "outputs": []
  },
  {
   "source": [
    "cod_post_dcfre_idx_df.set_index('Distrito_idx', inplace=True)\n",
    "cod_post_dcfre_idx_df.set_index('Concelho_idx', inplace=True, append=True)\n",
    "cod_post_dcfre_idx_df.set_index('Freguesia_idx', inplace=True, append=True)\n",
    "\n",
    "cod_post_dcfre_df.index = cod_post_dcfre_idx_df.index"
   ],
   "cell_type": "code",
   "metadata": {},
   "execution_count": 32,
   "outputs": []
  },
  {
   "cell_type": "code",
   "execution_count": 33,
   "metadata": {},
   "outputs": [],
   "source": [
    "cod_post_final_df = cod_post_dcfre_df.join(cod_post_map_df, rsuffix='_map')"
   ]
  },
  {
   "source": [
    "We are now left with the same number of missing values as we started with - postal codes for which we do not have a *freguesia* name!"
   ],
   "cell_type": "markdown",
   "metadata": {}
  },
  {
   "cell_type": "code",
   "execution_count": 34,
   "metadata": {},
   "outputs": [
    {
     "output_type": "execute_result",
     "data": {
      "text/plain": [
       "Distrito                         0\n",
       "Concelho                         0\n",
       "Freguesia                     1257\n",
       "cod_postal                       0\n",
       "Distrito_map                  1257\n",
       "Concelho_map                  1257\n",
       "Freguesia_map                 1257\n",
       "Alteração RATF                1257\n",
       "Freguesia Final (Pós RATF)    1257\n",
       "dtype: int64"
      ]
     },
     "metadata": {},
     "execution_count": 34
    }
   ],
   "source": [
    "cod_post_final_df.isna().sum()"
   ]
  },
  {
   "source": [
    "# Building the final database"
   ],
   "cell_type": "markdown",
   "metadata": {}
  },
  {
   "cell_type": "code",
   "execution_count": 35,
   "metadata": {},
   "outputs": [],
   "source": [
    "final_df = cod_post_final_df.set_index('cod_postal')"
   ]
  },
  {
   "cell_type": "code",
   "execution_count": 36,
   "metadata": {},
   "outputs": [
    {
     "output_type": "execute_result",
     "data": {
      "text/plain": [
       "           Distrito Concelho Freguesia Distrito_map Concelho_map  \\\n",
       "cod_postal                                                         \n",
       "3750011      Aveiro   Águeda    Agadão       Aveiro       Águeda   \n",
       "3750012      Aveiro   Águeda    Agadão       Aveiro       Águeda   \n",
       "3750013      Aveiro   Águeda    Agadão       Aveiro       Águeda   \n",
       "3750014      Aveiro   Águeda    Agadão       Aveiro       Águeda   \n",
       "3750015      Aveiro   Águeda    Agadão       Aveiro       Águeda   \n",
       "\n",
       "           Freguesia_map Alteração RATF  \\\n",
       "cod_postal                                \n",
       "3750011           Agadão      Agregação   \n",
       "3750012           Agadão      Agregação   \n",
       "3750013           Agadão      Agregação   \n",
       "3750014           Agadão      Agregação   \n",
       "3750015           Agadão      Agregação   \n",
       "\n",
       "                                   Freguesia Final (Pós RATF)  \n",
       "cod_postal                                                     \n",
       "3750011     União das freguesias de Belazaima do Chão, Cas...  \n",
       "3750012     União das freguesias de Belazaima do Chão, Cas...  \n",
       "3750013     União das freguesias de Belazaima do Chão, Cas...  \n",
       "3750014     União das freguesias de Belazaima do Chão, Cas...  \n",
       "3750015     União das freguesias de Belazaima do Chão, Cas...  "
      ],
      "text/html": "<div>\n<style scoped>\n    .dataframe tbody tr th:only-of-type {\n        vertical-align: middle;\n    }\n\n    .dataframe tbody tr th {\n        vertical-align: top;\n    }\n\n    .dataframe thead th {\n        text-align: right;\n    }\n</style>\n<table border=\"1\" class=\"dataframe\">\n  <thead>\n    <tr style=\"text-align: right;\">\n      <th></th>\n      <th>Distrito</th>\n      <th>Concelho</th>\n      <th>Freguesia</th>\n      <th>Distrito_map</th>\n      <th>Concelho_map</th>\n      <th>Freguesia_map</th>\n      <th>Alteração RATF</th>\n      <th>Freguesia Final (Pós RATF)</th>\n    </tr>\n    <tr>\n      <th>cod_postal</th>\n      <th></th>\n      <th></th>\n      <th></th>\n      <th></th>\n      <th></th>\n      <th></th>\n      <th></th>\n      <th></th>\n    </tr>\n  </thead>\n  <tbody>\n    <tr>\n      <th>3750011</th>\n      <td>Aveiro</td>\n      <td>Águeda</td>\n      <td>Agadão</td>\n      <td>Aveiro</td>\n      <td>Águeda</td>\n      <td>Agadão</td>\n      <td>Agregação</td>\n      <td>União das freguesias de Belazaima do Chão, Cas...</td>\n    </tr>\n    <tr>\n      <th>3750012</th>\n      <td>Aveiro</td>\n      <td>Águeda</td>\n      <td>Agadão</td>\n      <td>Aveiro</td>\n      <td>Águeda</td>\n      <td>Agadão</td>\n      <td>Agregação</td>\n      <td>União das freguesias de Belazaima do Chão, Cas...</td>\n    </tr>\n    <tr>\n      <th>3750013</th>\n      <td>Aveiro</td>\n      <td>Águeda</td>\n      <td>Agadão</td>\n      <td>Aveiro</td>\n      <td>Águeda</td>\n      <td>Agadão</td>\n      <td>Agregação</td>\n      <td>União das freguesias de Belazaima do Chão, Cas...</td>\n    </tr>\n    <tr>\n      <th>3750014</th>\n      <td>Aveiro</td>\n      <td>Águeda</td>\n      <td>Agadão</td>\n      <td>Aveiro</td>\n      <td>Águeda</td>\n      <td>Agadão</td>\n      <td>Agregação</td>\n      <td>União das freguesias de Belazaima do Chão, Cas...</td>\n    </tr>\n    <tr>\n      <th>3750015</th>\n      <td>Aveiro</td>\n      <td>Águeda</td>\n      <td>Agadão</td>\n      <td>Aveiro</td>\n      <td>Águeda</td>\n      <td>Agadão</td>\n      <td>Agregação</td>\n      <td>União das freguesias de Belazaima do Chão, Cas...</td>\n    </tr>\n  </tbody>\n</table>\n</div>"
     },
     "metadata": {},
     "execution_count": 36
    }
   ],
   "source": [
    "final_df.head()"
   ]
  },
  {
   "cell_type": "code",
   "execution_count": 37,
   "metadata": {},
   "outputs": [],
   "source": [
    "final_df.to_csv('output_data\\cod_post_freg_matched.csv')"
   ]
  }
 ]
}